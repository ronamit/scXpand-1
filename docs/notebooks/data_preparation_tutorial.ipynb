{
 "cells": [
  {
   "cell_type": "markdown",
   "id": "39e7b68c",
   "metadata": {},
   "source": [
    "# Preparing Training Data from Paired scRNA/TCR-seq\n",
    "\n",
    "This tutorial demonstrates how to prepare paired scRNA/TCR-seq data as an input for model training and optimization.\n",
    "\n",
    "## Example Dataset\n",
    "\n",
    "We use a publicly available paired scRNA/TCR-seq dataset of patients with brain tumors from:\n",
    "\n",
    "- **Study**: Wang et al. 2024\n",
    "- **Source**: https://zenodo.org/records/10672442\n",
    "- **Data type**: Paired scRNA/TCR-seq\n",
    "- **Cancer type**: Brain\n",
    "- **Tissue**: Tumor and Blood samples\n",
    "\n",
    "## Workflow Overview\n",
    "\n",
    "1. **Data Loading & Quality Control** - Load scRNA-seq data, filter low-quality cells, remove doublets\n",
    "2. **scTCR-seq Processing** - Load scTCR-seq data, filter multichain/orphan TCRs, define clonotypes\n",
    "3. **Cell Type Classification** - Apply MAGIC imputation, determine expression cutoffs, classify T-cell subtypes\n",
    "4. **Integration** - Combine scRNA-seq and TCR-seq annotations, add metadata\n",
    "5. **Clonal Expansion** - Calculate clone sizes per sample, determine expansion status\n",
    "6. **Export** - Save processed data\n",
    "\n",
    "---"
   ]
  },
  {
   "cell_type": "markdown",
   "id": "44c586ee",
   "metadata": {},
   "source": [
    "## **Important note (!):**\n",
    "\n",
    "This tutorial was made available to **examplify the process** we conducted to prepare the data as an input for model training, using just one dataset as an example.\n",
    "\n",
    "It is highly recommended to directly use our pre-trained models rather than training them 'De-Novo' by yourselves."
   ]
  },
  {
   "cell_type": "markdown",
   "id": "a34795b6",
   "metadata": {},
   "source": [
    "## 1. Data Loading & Quality Control using [Scanpy](https://github.com/scverse/scanpy)\n",
    "\n",
    "### 1.1 Loading scRNA-seq Data\n",
    "\n",
    "In this section, we load the scRNA-seq data and concatenate multiple samples into a unified AnnData object."
   ]
  },
  {
   "cell_type": "code",
   "execution_count": 1,
   "id": "62387c31",
   "metadata": {},
   "outputs": [],
   "source": [
    "# Check required packages\n",
    "import importlib.util\n",
    "\n",
    "missing_packages = []\n",
    "for package in [\"magic\", \"muon\"]:\n",
    "    if importlib.util.find_spec(package) is None:\n",
    "        missing_packages.append(package)\n",
    "\n",
    "if missing_packages:\n",
    "    print(f\"Missing packages: {', '.join(missing_packages)}\")\n",
    "    print(\"Install with: pip install muon magic-impute\")\n",
    "    print(\n",
    "        \"Docs: https://muon.readthedocs.io | https://github.com/KrishnaswamyLab/MAGIC\"\n",
    "    )"
   ]
  },
  {
   "cell_type": "code",
   "execution_count": 2,
   "id": "7b8862ef",
   "metadata": {},
   "outputs": [
    {
     "name": "stdout",
     "output_type": "stream",
     "text": [
      "Project root: /Users/rona/repos/scXpand-1\n"
     ]
    }
   ],
   "source": [
    "# Import required libraries for data analysis, visualization, and single-cell processing\n",
    "import os\n",
    "import sys\n",
    "from pathlib import Path\n",
    "\n",
    "import anndata as ad\n",
    "import matplotlib.pyplot as plt\n",
    "import muon as mu\n",
    "import numpy as np\n",
    "import pandas as pd\n",
    "import scanpy as sc\n",
    "import scirpy as ir\n",
    "import seaborn as sns\n",
    "from scipy.signal import argrelextrema, find_peaks\n",
    "\n",
    "# Set matplotlib backend for Jupyter notebooks\n",
    "%matplotlib inline\n",
    "\n",
    "# Plotting settings\n",
    "plt.rcParams[\"font.sans-serif\"] = [\"Arial\"]\n",
    "plt.rcParams[\"axes.axisbelow\"] = True\n",
    "sns.set_style(\"whitegrid\")\n",
    "\n",
    "# Setup project paths\n",
    "project_root = Path.cwd().parent.parent\n",
    "print(f\"Project root: {project_root}\")\n",
    "sys.path.insert(0, str(project_root))"
   ]
  },
  {
   "cell_type": "markdown",
   "id": "5ea72c84",
   "metadata": {},
   "source": [
    "We use [Pooch](https://github.com/fatiando/pooch) to download the data from Zenodo:"
   ]
  },
  {
   "cell_type": "code",
   "execution_count": 3,
   "id": "ccd1762d",
   "metadata": {},
   "outputs": [],
   "source": [
    "# Download the dataset from Zenodo and extract to demo directory\n",
    "import pooch\n",
    "\n",
    "demo_path = project_root / \"data\" / \"demo\"\n",
    "cache_dir = demo_path / \".zenodo_cache\"\n",
    "\n",
    "# Create directories\n",
    "cache_dir.mkdir(exist_ok=True, parents=True)\n",
    "demo_path.mkdir(exist_ok=True, parents=True)\n",
    "\n",
    "# Construct Zenodo download URL\n",
    "zenodo_record_id = \"10672442\"\n",
    "filename = \"Raw_files.zip\"\n",
    "zenodo_url = f\"https://zenodo.org/records/{zenodo_record_id}/files/{filename}\"\n",
    "\n",
    "# Download and extract using Pooch\n",
    "downloaded_files = pooch.retrieve(\n",
    "    url=zenodo_url,\n",
    "    known_hash=None,  # Let Pooch compute hash automatically\n",
    "    path=str(cache_dir),\n",
    "    progressbar=True,\n",
    "    processor=pooch.Unzip(extract_dir=str(demo_path)),\n",
    ")\n",
    "\n",
    "source_path = demo_path / \"Raw_files\""
   ]
  },
  {
   "cell_type": "code",
   "execution_count": 4,
   "id": "e12db3d5",
   "metadata": {},
   "outputs": [
    {
     "name": "stdout",
     "output_type": "stream",
     "text": [
      "Found 26 sample directories: ['GBM113_PBMC', 'GBM111Re_TIL', 'GBM074', 'GBM111Re_PBMC', 'GBM056', 'G4A062', 'G4A065Re', 'BrMet028', 'G4A112Re_TIL', 'BrMet010', 'GBM115', 'BrMet027', 'BrMet018', 'GBM114_PBMC', 'GBM105', 'BrMet009', 'GBM064', 'GBM063', 'GBM114_TIL', 'GBM091', 'GBM098', 'GBM106_PBMC', 'GBM106_TIL', 'GBM113_TIL', 'G4A112Re_PBMC', 'GBM104Re']\n"
     ]
    }
   ],
   "source": [
    "# Identify all sample directories in the dataset (excluding files and 'Grex' folder)\n",
    "samples = [\n",
    "    s for s in os.listdir(source_path) if (source_path / s).is_dir() and s != \"Grex\"\n",
    "]\n",
    "\n",
    "print(f\"Found {len(samples)} sample directories: {samples}\")"
   ]
  },
  {
   "cell_type": "code",
   "execution_count": 5,
   "id": "ab8283a6",
   "metadata": {},
   "outputs": [
    {
     "data": {
      "text/plain": [
       "AnnData object with n_obs × n_vars = 5259 × 33538\n",
       "    obs: 'sample'\n",
       "    var: 'gene_ids', 'feature_types'"
      ]
     },
     "execution_count": 5,
     "metadata": {},
     "output_type": "execute_result"
    }
   ],
   "source": [
    "# Define helper function to load scRNA-seq data and initialize AnnData object with first sample\n",
    "def load_sample_data(source_path: Path, sample: str) -> ad.AnnData:\n",
    "    \"\"\"Load and prepare scRNA-seq data for a single sample (optionally subset to first n_cells).\"\"\"\n",
    "    adata = sc.read_10x_mtx(source_path / sample / \"filtered_feature_bc_matrix\")\n",
    "\n",
    "    adata.obs[\"sample\"] = sample\n",
    "    adata.obs_names = [f\"{name.split('-')[0]}_{sample}\" for name in adata.obs_names]\n",
    "    return adata\n",
    "\n",
    "\n",
    "# Load first sample:\n",
    "adata = load_sample_data(source_path, samples[0])\n",
    "adata"
   ]
  },
  {
   "cell_type": "code",
   "execution_count": 6,
   "id": "419f2923",
   "metadata": {},
   "outputs": [],
   "source": [
    "# Concatenate all remaining samples into a single AnnData object\n",
    "for sample in samples[1:]:\n",
    "    tmp = load_sample_data(source_path, sample)\n",
    "    adata = ad.concat([adata, tmp])"
   ]
  },
  {
   "cell_type": "code",
   "execution_count": 7,
   "id": "2d93bcc6",
   "metadata": {},
   "outputs": [],
   "source": [
    "# Ensure consistent gene metadata across all samples\n",
    "adata.var = tmp.var.loc[adata.var_names]"
   ]
  },
  {
   "cell_type": "code",
   "execution_count": 8,
   "id": "8c7b50e3",
   "metadata": {},
   "outputs": [
    {
     "data": {
      "text/plain": [
       "AnnData object with n_obs × n_vars = 110489 × 31915\n",
       "    obs: 'sample'\n",
       "    var: 'gene_ids', 'feature_types'"
      ]
     },
     "execution_count": 8,
     "metadata": {},
     "output_type": "execute_result"
    }
   ],
   "source": [
    "# Display the combined dataset\n",
    "adata"
   ]
  },
  {
   "cell_type": "markdown",
   "id": "1ee8c38f",
   "metadata": {},
   "source": [
    "### 1.2 Quality Control\n",
    "\n",
    "We perform initial quality control to identify and filter low-quality cells and genes."
   ]
  },
  {
   "cell_type": "code",
   "execution_count": 9,
   "id": "5767e0fc",
   "metadata": {},
   "outputs": [],
   "source": [
    "# Mark mitochondrial genes for quality control\n",
    "adata.var[\"mt\"] = adata.var_names.str.startswith(\"MT-\")"
   ]
  },
  {
   "cell_type": "code",
   "execution_count": 10,
   "id": "9386ba35",
   "metadata": {},
   "outputs": [],
   "source": [
    "# Calculate quality control metric of mitochondrial gene percentage\n",
    "sc.pp.calculate_qc_metrics(adata, qc_vars=[\"mt\"], inplace=True)"
   ]
  },
  {
   "cell_type": "code",
   "execution_count": 11,
   "id": "01c385e8",
   "metadata": {},
   "outputs": [
    {
     "data": {
      "image/png": "[encoded data removed]",
      "text/plain": [
       "<Figure size 804.6x480 with 1 Axes>"
      ]
     },
     "metadata": {},
     "output_type": "display_data"
    }
   ],
   "source": [
    "# Visualize distribution of mitochondrial gene percentage across cells\n",
    "sc.pl.violin(adata, \"pct_counts_mt\", jitter=0.1)"
   ]
  },
  {
   "cell_type": "code",
   "execution_count": 12,
   "id": "f63f1b7d",
   "metadata": {},
   "outputs": [
    {
     "name": "stderr",
     "output_type": "stream",
     "text": [
      "/Users/rona/repos/scXpand-1/.venv/lib/python3.13/site-packages/scanpy/preprocessing/_simple.py:176: ImplicitModificationWarning: Trying to modify attribute `.obs` of view, initializing view as actual.\n",
      "  adata.obs[\"n_genes\"] = number\n"
     ]
    },
    {
     "data": {
      "text/plain": [
       "AnnData object with n_obs × n_vars = 92033 × 23328\n",
       "    obs: 'sample', 'n_genes_by_counts', 'log1p_n_genes_by_counts', 'total_counts', 'log1p_total_counts', 'pct_counts_in_top_50_genes', 'pct_counts_in_top_100_genes', 'pct_counts_in_top_200_genes', 'pct_counts_in_top_500_genes', 'total_counts_mt', 'log1p_total_counts_mt', 'pct_counts_mt', 'n_genes'\n",
       "    var: 'gene_ids', 'feature_types', 'mt', 'n_cells_by_counts', 'mean_counts', 'log1p_mean_counts', 'pct_dropout_by_counts', 'total_counts', 'log1p_total_counts', 'n_cells'"
      ]
     },
     "execution_count": 12,
     "metadata": {},
     "output_type": "execute_result"
    }
   ],
   "source": [
    "# Filter cells with high mitochondrial content (>10%), low gene count, and rare genes\n",
    "adata = adata[adata.obs.pct_counts_mt < 10, :]\n",
    "sc.pp.filter_cells(adata, min_genes=200)\n",
    "sc.pp.filter_genes(adata, min_cells=3)\n",
    "adata"
   ]
  },
  {
   "cell_type": "markdown",
   "id": "a6efebe8",
   "metadata": {},
   "source": [
    "#### 1.2.1 Doublet Detection and Removal\n",
    "\n",
    "We use [Scrublet](https://github.com/swolock/scrublet) to detect and remove doublets."
   ]
  },
  {
   "cell_type": "code",
   "execution_count": 13,
   "id": "35d6a368",
   "metadata": {},
   "outputs": [],
   "source": [
    "# Run Scrublet doublet detection\n",
    "sc.pp.scrublet(\n",
    "    adata,\n",
    "    expected_doublet_rate=0.05,  # Expected doublet rate for the dataset\n",
    "    batch_key=\"sample\",  # Process each sample separately\n",
    "    random_state=42,  # For reproducibility\n",
    ")\n",
    "\n",
    "#  Original code used in our dataset generation (replaced with scanpy's implementation due to compatibility issues in non-Windows environments):\n",
    "#  import scrublet as scr\n",
    "#  scrub = scr.Scrublet(adata.X, expected_doublet_rate=0.05)\n",
    "#  adata.obs[\"doublet_scores\"], adata.obs[\"predicted_doublets\"] = scrub.scrub_doublets()"
   ]
  },
  {
   "cell_type": "code",
   "execution_count": 14,
   "id": "d12ef7d6",
   "metadata": {},
   "outputs": [],
   "source": [
    "# Plot histogram of doublet scores (optional)\n",
    "# sc.pl.scrublet_score_distribution(adata)"
   ]
  },
  {
   "cell_type": "code",
   "execution_count": 15,
   "id": "25e643c9",
   "metadata": {},
   "outputs": [
    {
     "name": "stdout",
     "output_type": "stream",
     "text": [
      "Remaining cells after doublet filtering: 91079\n"
     ]
    }
   ],
   "source": [
    "# Remove cells with high doublet scores using a conservative threshold of 0.3\n",
    "doublet_threshold = 0.3\n",
    "adata = adata[adata.obs[\"doublet_score\"] < doublet_threshold]\n",
    "print(f\"Remaining cells after doublet filtering: {adata.n_obs}\")"
   ]
  },
  {
   "cell_type": "markdown",
   "id": "caf2b64d",
   "metadata": {},
   "source": [
    "We preserve raw counts and annotate samples with tissue type information."
   ]
  },
  {
   "cell_type": "code",
   "execution_count": 16,
   "id": "b31d5347",
   "metadata": {},
   "outputs": [
    {
     "name": "stderr",
     "output_type": "stream",
     "text": [
      "/var/folders/gj/lml42yl53zj8xfsrl3r6dhr80000gn/T/ipykernel_76547/1076825918.py:2: ImplicitModificationWarning: Setting element `.layers['counts']` of view, initializing view as actual.\n",
      "  adata.layers[\"counts\"] = adata.X.copy()\n"
     ]
    }
   ],
   "source": [
    "# Store raw counts in a separate layer for future use\n",
    "adata.layers[\"counts\"] = adata.X.copy()"
   ]
  },
  {
   "cell_type": "code",
   "execution_count": 17,
   "id": "ad42d760",
   "metadata": {},
   "outputs": [],
   "source": [
    "# Assign tissue type based on sample name (PBMC = Blood, others = Tumor)\n",
    "adata.obs[\"tissue_type\"] = np.where(\n",
    "    adata.obs[\"sample\"].str.contains(\"PBMC\"), \"Blood\", \"Tumor\"\n",
    ")"
   ]
  },
  {
   "cell_type": "markdown",
   "id": "2ad3d97b",
   "metadata": {},
   "source": [
    "## 2. scTCR-seq Processing\n",
    "\n",
    "### 2.1 Loading and Quality Control of scTCR-seq Data using [Scirpy](https://github.com/scverse/scirpy)\n",
    "\n",
    "In this section, we load scTCR-seq data and perform quality control to ensure high-quality T-cell receptor information."
   ]
  },
  {
   "cell_type": "code",
   "execution_count": 18,
   "id": "15cb0afc",
   "metadata": {},
   "outputs": [
    {
     "name": "stderr",
     "output_type": "stream",
     "text": [
      "/Users/rona/repos/scXpand-1/.venv/lib/python3.13/site-packages/airr/schema.py:10: UserWarning: pkg_resources is deprecated as an API. See https://setuptools.pypa.io/en/latest/pkg_resources.html. The pkg_resources package is slated for removal as early as 2025-11-30. Refrain from using this package or pin to Setuptools<81.\n",
      "  from pkg_resources import resource_stream\n"
     ]
    },
    {
     "name": "stdout",
     "output_type": "stream",
     "text": [
      "WARNING: Non-standard locus name: Multi \n",
      "WARNING: Non-standard locus name: None \n"
     ]
    },
    {
     "name": "stderr",
     "output_type": "stream",
     "text": [
      "/Users/rona/repos/scXpand-1/.venv/lib/python3.13/site-packages/anndata/utils.py:362: ExperimentalFeatureWarning: Support for Awkward Arrays is currently experimental. Behavior may change in the future. Please report any issues you may encounter!\n",
      "  warnings.warn(msg, category, stacklevel=stacklevel)\n"
     ]
    },
    {
     "data": {
      "text/plain": [
       "AnnData object with n_obs × n_vars = 1622 × 0\n",
       "    uns: 'scirpy_version'\n",
       "    obsm: 'airr'"
      ]
     },
     "execution_count": 18,
     "metadata": {},
     "output_type": "execute_result"
    }
   ],
   "source": [
    "# Define helper function to load scTCR-seq data and load first sample\n",
    "def load_tcr_sample(source_path: Path, sample: str) -> ad.AnnData | None:\n",
    "    \"\"\"Load and prepare 10X VDJ data for a single sample (returns None if file doesn't exist).\"\"\"\n",
    "    tcr_path = source_path / sample / \"filtered_contig_annotations.csv\"\n",
    "    if not tcr_path.exists():\n",
    "        return None\n",
    "    adata_tcr = ir.io.read_10x_vdj(tcr_path)\n",
    "    adata_tcr.obs_names = [\n",
    "        f\"{name.split('-')[0]}_{sample}\" for name in adata_tcr.obs_names\n",
    "    ]\n",
    "    return adata_tcr\n",
    "\n",
    "\n",
    "# Load first sample:\n",
    "adata_tcr = load_tcr_sample(source_path, samples[0])\n",
    "adata_tcr"
   ]
  },
  {
   "cell_type": "code",
   "execution_count": 19,
   "id": "fc3a398e",
   "metadata": {
    "scrolled": true
   },
   "outputs": [
    {
     "name": "stdout",
     "output_type": "stream",
     "text": [
      "WARNING: Non-standard locus name: Multi \n",
      "WARNING: Non-standard locus name: Multi \n",
      "WARNING: Non-standard locus name: Multi \n",
      "WARNING: Non-standard locus name: Multi \n",
      "WARNING: Non-standard locus name: Multi \n",
      "WARNING: Non-standard locus name: Multi \n",
      "WARNING: Non-standard locus name: Multi \n",
      "WARNING: Non-standard locus name: Multi \n",
      "WARNING: Non-standard locus name: None \n",
      "WARNING: Non-standard locus name: Multi \n",
      "WARNING: Non-standard locus name: Multi \n",
      "WARNING: Non-standard locus name: None \n",
      "WARNING: Non-standard locus name: Multi \n",
      "WARNING: Non-standard locus name: None \n",
      "WARNING: Non-standard locus name: Multi \n",
      "WARNING: Non-standard locus name: None \n",
      "WARNING: Non-standard locus name: Multi \n",
      "WARNING: Non-standard locus name: Multi \n",
      "WARNING: Non-standard locus name: None \n",
      "WARNING: Non-standard locus name: Multi \n",
      "WARNING: Non-standard locus name: Multi \n",
      "WARNING: Non-standard locus name: Multi \n",
      "WARNING: Non-standard locus name: Multi \n",
      "WARNING: Non-standard locus name: None \n",
      "WARNING: Non-standard locus name: Multi \n",
      "WARNING: Non-standard locus name: Multi \n",
      "WARNING: Non-standard locus name: None \n",
      "WARNING: Non-standard locus name: Multi \n",
      "WARNING: Non-standard locus name: None \n",
      "WARNING: Non-standard locus name: Multi \n",
      "WARNING: Non-standard locus name: None \n",
      "WARNING: Non-standard locus name: Multi \n",
      "WARNING: Non-standard locus name: None \n",
      "WARNING: Non-standard locus name: Multi \n",
      "WARNING: Non-standard locus name: None \n"
     ]
    }
   ],
   "source": [
    "# Concatenate TCR data from all remaining samples\n",
    "for sample in samples[1:]:\n",
    "    tmp = load_tcr_sample(source_path, sample)\n",
    "    if tmp is not None:\n",
    "        adata_tcr = ad.concat([adata_tcr, tmp])"
   ]
  },
  {
   "cell_type": "code",
   "execution_count": 20,
   "id": "34b783d8",
   "metadata": {},
   "outputs": [],
   "source": [
    "# Index TCR chains and perform quality control\n",
    "ir.pp.index_chains(adata_tcr)\n",
    "ir.tl.chain_qc(adata_tcr)"
   ]
  },
  {
   "cell_type": "code",
   "execution_count": 21,
   "id": "5b390c19",
   "metadata": {},
   "outputs": [
    {
     "data": {
      "text/plain": [
       "<Axes: title={'center': 'Number of cells in receptor_subtype by has_ir'}, xlabel='receptor_subtype', ylabel='Number of cells'>"
      ]
     },
     "execution_count": 21,
     "metadata": {},
     "output_type": "execute_result"
    },
    {
     "data": {
      "image/png": "[encoded data removed]",
      "text/plain": [
       "<Figure size 412.8x309.6 with 1 Axes>"
      ]
     },
     "metadata": {},
     "output_type": "display_data"
    }
   ],
   "source": [
    "# Visualize abundance of different receptor subtypes\n",
    "ir.pl.group_abundance(adata_tcr, groupby=\"receptor_subtype\")"
   ]
  },
  {
   "cell_type": "code",
   "execution_count": 22,
   "id": "8edd9a5c",
   "metadata": {},
   "outputs": [
    {
     "data": {
      "text/plain": [
       "receptor_subtype\n",
       "TRA+TRB       51779\n",
       "multichain      406\n",
       "no IR          3755\n",
       "dtype: int64"
      ]
     },
     "execution_count": 22,
     "metadata": {},
     "output_type": "execute_result"
    }
   ],
   "source": [
    "# Display amount of cells per receptor subtype\n",
    "adata_tcr.obs.groupby(\"receptor_subtype\").size()"
   ]
  },
  {
   "cell_type": "code",
   "execution_count": 23,
   "id": "4101b3d0",
   "metadata": {},
   "outputs": [
    {
     "name": "stdout",
     "output_type": "stream",
     "text": [
      "Fraction of cells with more than one pair of TCRs: 0.09\n"
     ]
    }
   ],
   "source": [
    "# Calculate and display the fraction of cells with more than one pair of productive TCRs\n",
    "multichain_types = [\"extra VJ\", \"extra VDJ\", \"two full chains\", \"multichain\"]\n",
    "multichain_fraction = adata_tcr.obs[\"chain_pairing\"].isin(multichain_types).mean()\n",
    "print(f\"Fraction of cells with more than one pair of TCRs: {multichain_fraction:.2f}\")"
   ]
  },
  {
   "cell_type": "markdown",
   "id": "3e381fb3",
   "metadata": {},
   "source": [
    "### 2.2 TCR Quality Control and Filtering\n",
    "\n",
    "We filter out cells:\n",
    "- Cells with multiple TCR pairs (multichain)\n",
    "- Cells with orphan chains (incomplete TCR pairs)\n",
    "- Cells with no immune receptor detected"
   ]
  },
  {
   "cell_type": "code",
   "execution_count": 24,
   "id": "3b174a5a",
   "metadata": {},
   "outputs": [
    {
     "data": {
      "text/plain": [
       "AnnData object with n_obs × n_vars = 55534 × 0\n",
       "    obs: 'receptor_type', 'receptor_subtype', 'chain_pairing'\n",
       "    uns: 'chain_indices'\n",
       "    obsm: 'airr', 'chain_indices'"
      ]
     },
     "execution_count": 24,
     "metadata": {},
     "output_type": "execute_result"
    }
   ],
   "source": [
    "# Filter out cells with multichain TCRs\n",
    "mu.pp.filter_obs(adata_tcr, \"chain_pairing\", lambda x: x != \"multichain\")\n",
    "adata_tcr"
   ]
  },
  {
   "cell_type": "code",
   "execution_count": 25,
   "id": "393f9ff7",
   "metadata": {},
   "outputs": [
    {
     "data": {
      "text/plain": [
       "AnnData object with n_obs × n_vars = 42834 × 0\n",
       "    obs: 'receptor_type', 'receptor_subtype', 'chain_pairing'\n",
       "    uns: 'chain_indices'\n",
       "    obsm: 'airr', 'chain_indices'"
      ]
     },
     "execution_count": 25,
     "metadata": {},
     "output_type": "execute_result"
    }
   ],
   "source": [
    "# Remove cells with orphan chains (don’t have at least one full pair of receptor sequences)\n",
    "mu.pp.filter_obs(\n",
    "    adata_tcr, \"chain_pairing\", lambda x: ~np.isin(x, [\"orphan VDJ\", \"orphan VJ\"])\n",
    ")\n",
    "adata_tcr"
   ]
  },
  {
   "cell_type": "code",
   "execution_count": 26,
   "id": "b9a376b4",
   "metadata": {},
   "outputs": [
    {
     "data": {
      "text/plain": [
       "View of AnnData object with n_obs × n_vars = 39079 × 0\n",
       "    obs: 'receptor_type', 'receptor_subtype', 'chain_pairing'\n",
       "    uns: 'chain_indices'\n",
       "    obsm: 'airr', 'chain_indices'"
      ]
     },
     "execution_count": 26,
     "metadata": {},
     "output_type": "execute_result"
    }
   ],
   "source": [
    "# Filter out cells with no immune receptor detected\n",
    "adata_tcr = adata_tcr[adata_tcr.obs[\"receptor_subtype\"] != \"no IR\"]\n",
    "adata_tcr"
   ]
  },
  {
   "cell_type": "markdown",
   "id": "50441053",
   "metadata": {},
   "source": [
    "### 2.3 Clonotype Definition\n",
    "\n",
    "We define clonotypes by calculating TCR sequence distances and grouping cells with identical TCR sequences."
   ]
  },
  {
   "cell_type": "code",
   "execution_count": 27,
   "id": "b3c38e96",
   "metadata": {},
   "outputs": [
    {
     "name": "stderr",
     "output_type": "stream",
     "text": [
      "/Users/rona/repos/scXpand-1/.venv/lib/python3.13/site-packages/scirpy/ir_dist/__init__.py:267: ImplicitModificationWarning: Trying to modify attribute `._uns` of view, initializing view as actual.\n",
      "  params.adata.uns[key_added] = result\n"
     ]
    }
   ],
   "source": [
    "# Calculate TCR sequence distance matrix for clonotype definition\n",
    "ir.pp.ir_dist(adata_tcr)"
   ]
  },
  {
   "cell_type": "code",
   "execution_count": 28,
   "id": "1f323b4c",
   "metadata": {},
   "outputs": [],
   "source": [
    "# Define clonotypes (cells with identical TCR sequences)\n",
    "# We require the CDR3 nucleic acid sequence in both chains to match exactly, and consider the most abundant pair of chains in case of dual TCRs\n",
    "ir.tl.define_clonotypes(adata_tcr, receptor_arms=\"all\", dual_ir=\"primary_only\")"
   ]
  },
  {
   "cell_type": "markdown",
   "id": "5438a49c",
   "metadata": {},
   "source": [
    "### 2.4 Integration with scRNA-seq Data\n",
    "\n",
    "We merge the scTCR-seq data with the scRNA-seq data, keeping only cells that have both types of data."
   ]
  },
  {
   "cell_type": "code",
   "execution_count": 29,
   "id": "237bdd3e",
   "metadata": {},
   "outputs": [],
   "source": [
    "# Keep only cells that have both scRNA-seq and TCR-seq data\n",
    "adata = adata[adata.obs_names.isin(adata_tcr.obs_names)].copy()"
   ]
  },
  {
   "cell_type": "markdown",
   "id": "453f15b3",
   "metadata": {},
   "source": [
    "## 3. Cell Type Classification\n",
    "\n",
    "### Important Note\n",
    "\n",
    "[MAGIC](https://github.com/KrishnaswamyLab/MAGIC) (Markov Affinity-based Graph Imputation of Cells) is a powerful technique for denoising single-cell data and imputing missing values. It helps recover true biological signals by leveraging the manifold structure of the data.\n",
    "\n",
    "In this tutorial, we use MAGIC to improve the detection of key T-cell markers (CD8A, CD8B, CD4, FOXP3) for accurate cell type classification."
   ]
  },
  {
   "cell_type": "markdown",
   "id": "bd62d7cd",
   "metadata": {},
   "source": [
    "### 3.1 Processing Tumor Samples\n",
    "\n",
    "We begin by processing tumor samples, applying MAGIC imputation to enhance marker gene detection."
   ]
  },
  {
   "cell_type": "code",
   "execution_count": 30,
   "id": "6de067b5",
   "metadata": {},
   "outputs": [],
   "source": [
    "# Subset data to tumor samples only\n",
    "adata_tumor = adata[adata.obs[\"tissue_type\"] == \"Tumor\"]"
   ]
  },
  {
   "cell_type": "code",
   "execution_count": 31,
   "id": "a410bfb4",
   "metadata": {},
   "outputs": [
    {
     "name": "stderr",
     "output_type": "stream",
     "text": [
      "/Users/rona/repos/scXpand-1/.venv/lib/python3.13/site-packages/scanpy/preprocessing/_normalization.py:269: UserWarning: Received a view of an AnnData. Making a copy.\n",
      "  view_to_actual(adata)\n"
     ]
    }
   ],
   "source": [
    "# Normalize and log-transform tumor data (target sum = 10,000, log base 2)\n",
    "sc.pp.normalize_total(adata_tumor, target_sum=1e4)\n",
    "sc.pp.log1p(adata_tumor, base=2)"
   ]
  },
  {
   "cell_type": "markdown",
   "id": "fa8ba428",
   "metadata": {},
   "source": [
    "#### 3.1.1 MAGIC Imputation for Tumor Samples\n",
    "\n",
    "MAGIC imputation is applied to denoise the expression of key T-cell marker genes."
   ]
  },
  {
   "cell_type": "code",
   "execution_count": 32,
   "id": "39626f41",
   "metadata": {},
   "outputs": [
    {
     "name": "stderr",
     "output_type": "stream",
     "text": [
      "/Users/rona/repos/scXpand-1/.venv/lib/python3.13/site-packages/magic/magic.py:425: UserWarning: Input matrix contains unexpressed genes. Please remove them prior to running MAGIC.\n",
      "  warnings.warn(\n"
     ]
    }
   ],
   "source": [
    "# Apply MAGIC imputation to denoise and impute T-cell marker genes\n",
    "adata_magic_tumor = sc.external.pp.magic(\n",
    "    adata_tumor,\n",
    "    name_list=[\"CD8A\", \"CD8B\", \"CD4\", \"FOXP3\", \"CD3E\", \"PTPRC\"],\n",
    "    random_state=42,\n",
    ")"
   ]
  },
  {
   "cell_type": "code",
   "execution_count": 33,
   "id": "d305e32c",
   "metadata": {},
   "outputs": [],
   "source": [
    "# Extract original (non-imputed) gene expression values\n",
    "non_imputed_df = sc.get.obs_df(adata_tumor, list(adata_magic_tumor.var_names))"
   ]
  },
  {
   "cell_type": "code",
   "execution_count": 34,
   "id": "0d30596c",
   "metadata": {},
   "outputs": [],
   "source": [
    "# Combine MAGIC-imputed and original expression values into one dataframe\n",
    "magic_df_tumor = sc.get.obs_df(adata_magic_tumor, list(adata_magic_tumor.var_names))\n",
    "magic_df_tumor.columns = [f\"{col}_Imputed\" for col in magic_df_tumor.columns]\n",
    "magic_df_tumor = magic_df_tumor.join(non_imputed_df)"
   ]
  },
  {
   "cell_type": "code",
   "execution_count": 35,
   "id": "0002dbb4",
   "metadata": {},
   "outputs": [],
   "source": [
    "# Save tumor MAGIC labels to compressed CSV\n",
    "magic_df_tumor.to_csv(\n",
    "    source_path / \"Brain_zenodo_MAGIC_labels_tumor.csv.gz\", compression=\"gzip\"\n",
    ")"
   ]
  },
  {
   "cell_type": "markdown",
   "id": "df751477",
   "metadata": {},
   "source": [
    "#### 3.1.2 Cell Type Classification Functions\n",
    "\n",
    "We define functions to classify T cells based on CD8 and CD4 expression, and to identify regulatory T cells (Tregs)."
   ]
  },
  {
   "cell_type": "code",
   "execution_count": 36,
   "id": "30dbe304",
   "metadata": {},
   "outputs": [],
   "source": [
    "# Define complete vectorized pipeline for cell type classification with cutoffs\n",
    "def classify_tissue_cells(\n",
    "    df: pd.DataFrame, cd8a_cutoff: float, cd8b_cutoff: float, cd4_cutoff: float\n",
    ") -> pd.DataFrame:\n",
    "    \"\"\"\n",
    "    Complete classification pipeline using vectorized operations:\n",
    "    1. Classify based on imputed expression (MAGIC)\n",
    "    2. Classify based on original expression\n",
    "    3. Reconcile both classifications\n",
    "    4. Identify Treg cells\n",
    "    \"\"\"\n",
    "    # Vectorized classification based on imputed expression:\n",
    "    is_cd8a_imp = df[\"CD8A_Imputed\"] > cd8a_cutoff\n",
    "    is_cd8b_imp = df[\"CD8B_Imputed\"] > cd8b_cutoff\n",
    "    is_cd4_imp = df[\"CD4_Imputed\"] > cd4_cutoff\n",
    "    has_cd8_imp = is_cd8a_imp | is_cd8b_imp\n",
    "\n",
    "    # Initialize and assign MAGIC cell types:\n",
    "    df[\"MAGIC_Cell_Type\"] = \"Double_Negative\"\n",
    "    df.loc[has_cd8_imp & ~is_cd4_imp, \"MAGIC_Cell_Type\"] = \"is_CD8\"\n",
    "    df.loc[~has_cd8_imp & is_cd4_imp, \"MAGIC_Cell_Type\"] = \"is_CD4\"\n",
    "    df.loc[has_cd8_imp & is_cd4_imp, \"MAGIC_Cell_Type\"] = \"Double_Positive\"\n",
    "\n",
    "    # Vectorized classification based on original expression:\n",
    "    is_cd8a_orig = df[\"CD8A\"] > 1\n",
    "    is_cd8b_orig = df[\"CD8B\"] > 1\n",
    "    is_cd4_orig = df[\"CD4\"] > 1\n",
    "    has_cd8_orig = is_cd8a_orig | is_cd8b_orig\n",
    "\n",
    "    # Initialize and assign original cell types:\n",
    "    df[\"type_original\"] = \"Double_Negative\"\n",
    "    df.loc[has_cd8_orig & ~is_cd4_orig, \"type_original\"] = \"is_CD8\"\n",
    "    df.loc[~has_cd8_orig & is_cd4_orig, \"type_original\"] = \"is_CD4\"\n",
    "    df.loc[has_cd8_orig & is_cd4_orig, \"type_original\"] = \"Double_Positive\"\n",
    "\n",
    "    # Vectorized reconciliation of classifications:\n",
    "    df[\"final_type\"] = df[\"type_original\"].copy()\n",
    "\n",
    "    # Apply reconciliation rules using boolean masks:\n",
    "    cd8_mask = (df[\"type_original\"] == \"is_CD8\") & df[\"MAGIC_Cell_Type\"].isin(\n",
    "        [\"is_CD4\", \"Double_Negative\", \"is_CD8\"]\n",
    "    )\n",
    "    df.loc[cd8_mask, \"final_type\"] = \"is_CD8\"\n",
    "\n",
    "    cd4_mask = (df[\"type_original\"] == \"is_CD4\") & df[\"MAGIC_Cell_Type\"].isin(\n",
    "        [\"is_CD4\", \"Double_Negative\", \"is_CD8\"]\n",
    "    )\n",
    "    df.loc[cd4_mask, \"final_type\"] = \"is_CD4\"\n",
    "\n",
    "    double_pos_mask = df[\"type_original\"].isin([\"is_CD4\", \"is_CD8\"]) & (\n",
    "        df[\"MAGIC_Cell_Type\"] == \"Double_Positive\"\n",
    "    )\n",
    "    df.loc[double_pos_mask, \"final_type\"] = \"Double_Positive\"\n",
    "\n",
    "    double_neg_mask = df[\"type_original\"] == \"Double_Negative\"\n",
    "    df.loc[double_neg_mask, \"final_type\"] = df.loc[double_neg_mask, \"MAGIC_Cell_Type\"]\n",
    "\n",
    "    # Vectorized Treg identification:\n",
    "    treg_mask = (df[\"final_type\"] == \"is_CD4\") & (\n",
    "        (df[\"FOXP3\"] > 1) | (df[\"FOXP3_Imputed\"] > 1)\n",
    "    )\n",
    "    df.loc[treg_mask, \"final_type\"] = \"is_Treg\"\n",
    "\n",
    "    return df"
   ]
  },
  {
   "cell_type": "markdown",
   "id": "c6bfc42d",
   "metadata": {},
   "source": [
    "### 3.2 Determining Expression Cutoffs\n",
    "\n",
    "To accurately classify cells, we need to determine optimal expression thresholds for CD8A, CD8B, and CD4 markers."
   ]
  },
  {
   "cell_type": "markdown",
   "id": "76ef67a1",
   "metadata": {},
   "source": [
    "#### 3.2.1 Automatic Cutoff Determination Pipeline\n",
    "\n",
    "This pipeline automatically determines expression cutoffs using Kernel Density Estimation (KDE):\n",
    "\n",
    "##### 1. **Automatic Clip Range Determination**\n",
    "   - Automatically determines the appropriate range for analysis based on data percentiles\n",
    "   - Adds a small buffer to ensure edge values are included\n",
    "\n",
    "##### 2. **Local Minimum Detection**\n",
    "   - Uses KDE to estimate the expression distribution\n",
    "   - Identifies local minima in the density curve\n",
    "   - The first local minimum (leftmost) typically represents the boundary between negative and positive populations\n",
    "\n",
    "##### 3. **Visual Validation**\n",
    "   - Plots the expression density with identified cutoffs\n",
    "   - Highlights local minima and peaks for validation\n",
    "   - Allows visual inspection of the chosen threshold"
   ]
  },
  {
   "cell_type": "code",
   "execution_count": 37,
   "id": "ddd67397",
   "metadata": {},
   "outputs": [],
   "source": [
    "# Define helper functions for automatic cutoff determination\n",
    "\n",
    "\n",
    "def determine_clip_range(\n",
    "    data: pd.Series, lower_percentile: float = 1, upper_percentile: float = 99\n",
    ") -> list[float]:\n",
    "    \"\"\"\n",
    "    Automatically determine clip range for KDE plotting based on data percentiles.\n",
    "\n",
    "    Args:\n",
    "        data: Series of gene expression values\n",
    "        lower_percentile: Lower percentile for clipping (default 1st percentile)\n",
    "        upper_percentile: Upper percentile for clipping (default 99th percentile)\n",
    "\n",
    "    Returns:\n",
    "        [lower_bound, upper_bound] for clipping\n",
    "    \"\"\"\n",
    "    lower = np.percentile(data, lower_percentile)\n",
    "    upper = np.percentile(data, upper_percentile)\n",
    "\n",
    "    # Add small buffer (5% of range) to ensure we don't cut off important data\n",
    "    data_range = upper - lower\n",
    "    buffer = data_range * 0.05\n",
    "\n",
    "    return [max(0, lower - buffer), upper + buffer]\n",
    "\n",
    "\n",
    "def plot_expression_density_with_cutoff(\n",
    "    data: pd.DataFrame,\n",
    "    gene_name: str,\n",
    "    clip_range: list[float] | None = None,\n",
    "    bw_adjust: float = 1.0,\n",
    "    ax=None,\n",
    ") -> float:\n",
    "    \"\"\"\n",
    "    Plot expression density and return cutoff value at first local minimum (trough) between populations.\n",
    "\n",
    "    Args:\n",
    "        data: DataFrame with gene expression data\n",
    "        gene_name: Name of gene column to analyze\n",
    "        clip_range: Optional [min, max] range for KDE plot\n",
    "        bw_adjust: Bandwidth adjustment for KDE (lower = less smoothing)\n",
    "        ax: Matplotlib axis (optional)\n",
    "\n",
    "    Returns:\n",
    "        Cutoff value at first local minimum\n",
    "    \"\"\"\n",
    "\n",
    "    if ax is None:\n",
    "        fig, ax = plt.subplots(1, 1, figsize=(10, 6))\n",
    "\n",
    "    # Set random seed for reproducible KDE calculation\n",
    "    np.random.seed(42)\n",
    "\n",
    "    # Auto-determine clip range if not provided\n",
    "    if clip_range is None:\n",
    "        clip_range = determine_clip_range(data[gene_name])\n",
    "        print(\n",
    "            f\"  Auto-determined clip range for {gene_name}: [{clip_range[0]:.3f}, {clip_range[1]:.3f}]\"\n",
    "        )\n",
    "\n",
    "    # Generate KDE plot with adjustable bandwidth (lower bw_adjust = less smoothing)\n",
    "    sns.kdeplot(\n",
    "        data[gene_name],\n",
    "        clip=clip_range,\n",
    "        bw_adjust=bw_adjust,\n",
    "        color=\"black\",\n",
    "        linewidth=2,\n",
    "        ax=ax,\n",
    "        zorder=2,\n",
    "    )\n",
    "\n",
    "    line = ax.lines[0]\n",
    "    x, y = line.get_data()\n",
    "\n",
    "    # Find all local minima in the density curve\n",
    "    local_minima = argrelextrema(y, np.less)[0]\n",
    "\n",
    "    # Filter out edge minima (first and last 5% of points)\n",
    "    edge_threshold = int(len(y) * 0.05)\n",
    "    interior_minima = local_minima[\n",
    "        (local_minima > edge_threshold) & (local_minima < len(y) - edge_threshold)\n",
    "    ]\n",
    "\n",
    "    if len(interior_minima) == 0:\n",
    "        raise ValueError(\n",
    "            f\"No local minimum found for {gene_name} (excluding edges). \"\n",
    "            f\"The distribution may not be bimodal. Please check the expression distribution \"\n",
    "            f\"or set cutoffs manually.\"\n",
    "        )\n",
    "\n",
    "    # Use the first local minimum (leftmost) as the cutoff\n",
    "    # This should be the trough between negative and positive populations\n",
    "    min_idx = interior_minima[0]\n",
    "    cutoff_x = x[min_idx]\n",
    "    cutoff_y = y[min_idx]\n",
    "\n",
    "    # Find peaks for visualization (optional, but helpful for validation)\n",
    "    peaks, _ = find_peaks(y, prominence=0.005)\n",
    "\n",
    "    # Mark all local minima for visualization\n",
    "    ax.plot(\n",
    "        x[interior_minima],\n",
    "        y[interior_minima],\n",
    "        \"bo\",\n",
    "        markersize=8,\n",
    "        label=\"Local minima\",\n",
    "        zorder=1,\n",
    "        alpha=0.3,\n",
    "    )\n",
    "\n",
    "    # Highlight the selected cutoff (first local minimum)\n",
    "    ax.plot(\n",
    "        x[min_idx],\n",
    "        y[min_idx],\n",
    "        \"b*\",\n",
    "        markersize=12,\n",
    "        markeredgecolor=\"darkblue\",\n",
    "        markeredgewidth=1.5,\n",
    "        label=\"Selected cutoff\",\n",
    "        zorder=1,\n",
    "        alpha=0.3,\n",
    "    )\n",
    "\n",
    "    # Mark peaks if detected (for reference)\n",
    "    if len(peaks) > 0:\n",
    "        ax.plot(\n",
    "            x[peaks],\n",
    "            y[peaks],\n",
    "            \"go\",\n",
    "            markersize=8,\n",
    "            label=\"Detected peaks\",\n",
    "            zorder=1,\n",
    "            alpha=0.3,\n",
    "        )\n",
    "\n",
    "        # Add numbered labels to peaks (sorted by x-position)\n",
    "        sorted_peaks = peaks[np.argsort(x[peaks])]\n",
    "        for peak_num, peak_idx in enumerate(\n",
    "            sorted_peaks[:3], start=1\n",
    "        ):  # Show first 3 peaks\n",
    "            ax.annotate(\n",
    "                f\"P{peak_num}\",\n",
    "                xy=(x[peak_idx], y[peak_idx]),\n",
    "                xytext=(0, 8),\n",
    "                textcoords=\"offset points\",\n",
    "                ha=\"center\",\n",
    "                fontsize=9,\n",
    "                fontweight=\"bold\",\n",
    "                color=\"darkgreen\",\n",
    "                alpha=0.6,\n",
    "                bbox={\n",
    "                    \"boxstyle\": \"circle,pad=0.2\",\n",
    "                    \"facecolor\": \"white\",\n",
    "                    \"edgecolor\": \"darkgreen\",\n",
    "                    \"linewidth\": 1,\n",
    "                    \"alpha\": 0.6,\n",
    "                },\n",
    "            )\n",
    "\n",
    "    # Add numbered labels to local minima\n",
    "    for min_num, min_idx_i in enumerate(\n",
    "        interior_minima[:3], start=1\n",
    "    ):  # Show first 3 minima\n",
    "        label_text = f\"M{min_num}\" if min_idx_i != min_idx else \"M1\"\n",
    "        ax.annotate(\n",
    "            label_text,\n",
    "            xy=(x[min_idx_i], y[min_idx_i]),\n",
    "            xytext=(0, -12),\n",
    "            textcoords=\"offset points\",\n",
    "            ha=\"center\",\n",
    "            fontsize=9,\n",
    "            fontweight=\"bold\",\n",
    "            color=\"darkblue\",\n",
    "            alpha=0.6,\n",
    "            bbox={\n",
    "                \"boxstyle\": \"circle,pad=0.2\",\n",
    "                \"facecolor\": \"white\",\n",
    "                \"edgecolor\": \"darkblue\",\n",
    "                \"linewidth\": 1,\n",
    "                \"alpha\": 0.6,\n",
    "            },\n",
    "        )\n",
    "\n",
    "    ax.axvline(\n",
    "        x=cutoff_x,\n",
    "        color=\"red\",\n",
    "        linestyle=\"--\",\n",
    "        lw=2,\n",
    "        label=f\"Cutoff: {cutoff_x:.4f}\",\n",
    "        zorder=3,\n",
    "    )\n",
    "    ax.axhline(y=cutoff_y, color=\"red\", linestyle=\"--\", lw=2, alpha=0.5, zorder=3)\n",
    "    ax.set_title(f\"{gene_name}\")\n",
    "    ax.set_xlabel(\"Gene Expression\")\n",
    "    ax.set_ylabel(\"Density\")\n",
    "    ax.legend(loc=\"best\", fontsize=9)\n",
    "\n",
    "    return cutoff_x\n",
    "\n",
    "\n",
    "def plot_cutoffs_for_tissue(\n",
    "    data: pd.DataFrame, tissue_name: str, genes: list[str], bw_adjust: float = 1\n",
    "):\n",
    "    \"\"\"\n",
    "    Plot expression density and cutoffs for multiple genes in subplots.\n",
    "\n",
    "    Args:\n",
    "        data: DataFrame with gene expression data\n",
    "        tissue_name: Name of tissue type (e.g., \"Tumor\", \"Blood\")\n",
    "        genes: List of gene names to analyze (e.g., [\"CD8A_Imputed\", \"CD8B_Imputed\", \"CD4_Imputed\"])\n",
    "        bw_adjust: Bandwidth adjustment for KDE (higher values = more smoothing)\n",
    "    \"\"\"\n",
    "    # Set random seed for reproducibility across all cutoff calculations\n",
    "    np.random.seed(42)\n",
    "\n",
    "    fig, axes = plt.subplots(1, 3, figsize=(15, 4))\n",
    "    fig.suptitle(f\"{tissue_name} - Gene Expression Cutoffs\", fontsize=14, y=1.02)\n",
    "\n",
    "    cutoffs = {}\n",
    "    for idx, gene in enumerate(genes):\n",
    "        cutoff = plot_expression_density_with_cutoff(\n",
    "            data, gene, clip_range=None, bw_adjust=bw_adjust, ax=axes[idx]\n",
    "        )\n",
    "        cutoffs[gene] = cutoff\n",
    "\n",
    "    plt.tight_layout()\n",
    "    plt.show()\n",
    "\n",
    "    return cutoffs"
   ]
  },
  {
   "cell_type": "markdown",
   "id": "7a616811",
   "metadata": {},
   "source": [
    "#### 3.2.2 Cutoff Determination for Tumor Samples\n",
    "\n",
    "Apply the automatic cutoff determination to tumor samples."
   ]
  },
  {
   "cell_type": "code",
   "execution_count": 38,
   "id": "0d6dbaf5",
   "metadata": {},
   "outputs": [
    {
     "name": "stdout",
     "output_type": "stream",
     "text": [
      "  Auto-determined clip range for CD8A_Imputed: [0.000, 4.358]\n",
      "  Auto-determined clip range for CD8B_Imputed: [0.000, 3.403]\n",
      "  Auto-determined clip range for CD4_Imputed: [0.000, 1.670]\n"
     ]
    },
    {
     "data": {
      "image/png": "[encoded data removed]",
      "text/plain": [
       "<Figure size 1500x400 with 3 Axes>"
      ]
     },
     "metadata": {},
     "output_type": "display_data"
    }
   ],
   "source": [
    "# Determine optimal expression cutoffs for CD8A, CD8B, and CD4 in tumor samples\n",
    "# It is recommended to visually inspect the plots to ensure cutoffs are appropriate and change bw_adjust if needed\n",
    "# Please note that using the entire integrated dataset (unlike the single dataset for example shown here), peaks are often better defined (See Figure S1 in our paper)\n",
    "cutoffs_tumor = plot_cutoffs_for_tissue(\n",
    "    magic_df_tumor,\n",
    "    \"Tumor\",\n",
    "    [\"CD8A_Imputed\", \"CD8B_Imputed\", \"CD4_Imputed\"],\n",
    "    bw_adjust=0.8,\n",
    ")\n",
    "cd8a_cutoff_tumor = cutoffs_tumor[\"CD8A_Imputed\"]\n",
    "cd8b_cutoff_tumor = cutoffs_tumor[\"CD8B_Imputed\"]\n",
    "cd4_cutoff_tumor = cutoffs_tumor[\"CD4_Imputed\"]"
   ]
  },
  {
   "cell_type": "code",
   "execution_count": 39,
   "id": "c99a4d56",
   "metadata": {},
   "outputs": [
    {
     "name": "stdout",
     "output_type": "stream",
     "text": [
      "Calculated Tumor Cutoffs:\n",
      "  CD8A: 1.81759586\n",
      "  CD8B: 1.50485428\n",
      "  CD4:  0.44470226\n"
     ]
    }
   ],
   "source": [
    "# Print calculated tumor cutoffs for verification\n",
    "print(\"Calculated Tumor Cutoffs:\")\n",
    "print(f\"  CD8A: {cd8a_cutoff_tumor:.8f}\")\n",
    "print(f\"  CD8B: {cd8b_cutoff_tumor:.8f}\")\n",
    "print(f\"  CD4:  {cd4_cutoff_tumor:.8f}\")"
   ]
  },
  {
   "cell_type": "markdown",
   "id": "bc5f4b6c",
   "metadata": {},
   "source": [
    "#### 3.2.3 Apply Classification to Tumor Samples\n",
    "\n",
    "Using the determined cutoffs, we classify tumor-infiltrating T cells into subtypes."
   ]
  },
  {
   "cell_type": "code",
   "execution_count": 40,
   "id": "f7f3d248",
   "metadata": {},
   "outputs": [],
   "source": [
    "# Apply cell type classification to tumor samples using determined cutoffs\n",
    "magic_df_tumor = classify_tissue_cells(\n",
    "    magic_df_tumor,\n",
    "    cd8a_cutoff=cd8a_cutoff_tumor,\n",
    "    cd8b_cutoff=cd8b_cutoff_tumor,\n",
    "    cd4_cutoff=cd4_cutoff_tumor,\n",
    ")"
   ]
  },
  {
   "cell_type": "code",
   "execution_count": 41,
   "id": "3071fe6e",
   "metadata": {},
   "outputs": [],
   "source": [
    "# Save final classified tumor labels to compressed CSV\n",
    "magic_df_tumor.to_csv(\n",
    "    source_path / \"Brain_zenodo_final_tumor_MAGIC_labels.csv.gz\", compression=\"gzip\"\n",
    ")"
   ]
  },
  {
   "cell_type": "markdown",
   "id": "0c9cb0f4",
   "metadata": {},
   "source": [
    "### 3.3 Processing Blood (PBMC) Samples\n",
    "\n",
    "We apply the same MAGIC imputation and classification pipeline to blood samples, using tissue-specific expression cutoffs."
   ]
  },
  {
   "cell_type": "code",
   "execution_count": 42,
   "id": "6e009623",
   "metadata": {},
   "outputs": [],
   "source": [
    "# Subset data to blood (PBMC) samples only\n",
    "adata_blood = adata[adata.obs[\"tissue_type\"] == \"Blood\"]"
   ]
  },
  {
   "cell_type": "markdown",
   "id": "60e00ec6",
   "metadata": {},
   "source": [
    "#### 3.3.1 MAGIC Imputation for Blood Samples\n",
    "\n",
    "Apply MAGIC imputation to blood T cells."
   ]
  },
  {
   "cell_type": "code",
   "execution_count": 43,
   "id": "6cdd1b2f",
   "metadata": {},
   "outputs": [
    {
     "name": "stderr",
     "output_type": "stream",
     "text": [
      "/Users/rona/repos/scXpand-1/.venv/lib/python3.13/site-packages/scanpy/preprocessing/_normalization.py:269: UserWarning: Received a view of an AnnData. Making a copy.\n",
      "  view_to_actual(adata)\n"
     ]
    }
   ],
   "source": [
    "# Normalize and log-transform blood data (target sum = 10,000, log base 2)\n",
    "sc.pp.normalize_total(adata_blood, target_sum=1e4)\n",
    "sc.pp.log1p(adata_blood, base=2)"
   ]
  },
  {
   "cell_type": "code",
   "execution_count": 44,
   "id": "8ff098f0",
   "metadata": {},
   "outputs": [
    {
     "name": "stderr",
     "output_type": "stream",
     "text": [
      "/Users/rona/repos/scXpand-1/.venv/lib/python3.13/site-packages/magic/magic.py:425: UserWarning: Input matrix contains unexpressed genes. Please remove them prior to running MAGIC.\n",
      "  warnings.warn(\n"
     ]
    }
   ],
   "source": [
    "# Apply MAGIC imputation to denoise and impute T-cell marker genes in blood\n",
    "adata_magic_blood = sc.external.pp.magic(\n",
    "    adata_blood,\n",
    "    name_list=[\"CD8A\", \"CD8B\", \"CD4\", \"FOXP3\", \"CD3E\", \"PTPRC\"],\n",
    "    random_state=42,\n",
    ")"
   ]
  },
  {
   "cell_type": "code",
   "execution_count": 45,
   "id": "4e0bac0c",
   "metadata": {},
   "outputs": [],
   "source": [
    "# Combine MAGIC-imputed and original expression values for blood samples\n",
    "non_imputed_df = sc.get.obs_df(adata_blood, list(adata_magic_blood.var_names))\n",
    "magic_df_blood = sc.get.obs_df(adata_magic_blood, list(adata_magic_blood.var_names))\n",
    "magic_df_blood.columns = [f\"{col}_Imputed\" for col in magic_df_blood.columns]\n",
    "magic_df_blood = magic_df_blood.join(non_imputed_df)"
   ]
  },
  {
   "cell_type": "code",
   "execution_count": 46,
   "id": "064f84d2",
   "metadata": {},
   "outputs": [],
   "source": [
    "# Save blood MAGIC labels to compressed CSV\n",
    "magic_df_blood.to_csv(\n",
    "    source_path / \"Brain_zenodo_MAGIC_labels_blood.csv.gz\", compression=\"gzip\"\n",
    ")"
   ]
  },
  {
   "cell_type": "markdown",
   "id": "28ef66c2",
   "metadata": {},
   "source": [
    "#### 3.3.2 Cutoff Determination for Blood Samples\n",
    "\n",
    "Determine optimal expression cutoffs specific to blood samples."
   ]
  },
  {
   "cell_type": "code",
   "execution_count": 47,
   "id": "6d470309",
   "metadata": {},
   "outputs": [
    {
     "name": "stdout",
     "output_type": "stream",
     "text": [
      "  Auto-determined clip range for CD8A_Imputed: [0.000, 3.574]\n",
      "  Auto-determined clip range for CD8B_Imputed: [0.000, 3.597]\n",
      "  Auto-determined clip range for CD4_Imputed: [0.000, 0.794]\n"
     ]
    },
    {
     "data": {
      "image/png": "[encoded data removed]",
      "text/plain": [
       "<Figure size 1500x400 with 3 Axes>"
      ]
     },
     "metadata": {},
     "output_type": "display_data"
    }
   ],
   "source": [
    "# Determine optimal expression cutoffs for CD8A, CD8B, and CD4 in blood samples\n",
    "# It is recommended to visually inspect the plots to ensure cutoffs are appropriate and change bw_adjust if needed\n",
    "# Please note that using the entire integrated dataset (unlike the single dataset for example shown here), peaks are often better defined (See Figure S1 in our paper)\n",
    "cutoffs_blood = plot_cutoffs_for_tissue(\n",
    "    magic_df_blood,\n",
    "    \"Blood\",\n",
    "    [\"CD8A_Imputed\", \"CD8B_Imputed\", \"CD4_Imputed\"],\n",
    "    bw_adjust=1,\n",
    ")\n",
    "cd8a_cutoff_blood = cutoffs_blood[\"CD8A_Imputed\"]\n",
    "cd8b_cutoff_blood = cutoffs_blood[\"CD8B_Imputed\"]\n",
    "cd4_cutoff_blood = cutoffs_blood[\"CD4_Imputed\"]"
   ]
  },
  {
   "cell_type": "code",
   "execution_count": 48,
   "id": "d4de9ac1",
   "metadata": {},
   "outputs": [
    {
     "name": "stdout",
     "output_type": "stream",
     "text": [
      "Calculated Blood Cutoffs:\n",
      "  CD8A: 1.47250224\n",
      "  CD8B: 1.44599351\n",
      "  CD4:  0.19146121\n"
     ]
    }
   ],
   "source": [
    "# Print calculated blood cutoffs for verification\n",
    "print(\"Calculated Blood Cutoffs:\")\n",
    "print(f\"  CD8A: {cd8a_cutoff_blood:.8f}\")\n",
    "print(f\"  CD8B: {cd8b_cutoff_blood:.8f}\")\n",
    "print(f\"  CD4:  {cd4_cutoff_blood:.8f}\")"
   ]
  },
  {
   "cell_type": "markdown",
   "id": "5d873f5a",
   "metadata": {},
   "source": [
    "#### 3.3.3 Apply Classification to Blood Samples\n",
    "\n",
    "Classify blood T cells using the determined cutoffs."
   ]
  },
  {
   "cell_type": "code",
   "execution_count": 49,
   "id": "b36dcc88",
   "metadata": {},
   "outputs": [],
   "source": [
    "# Apply cell type classification to blood samples using determined cutoffs\n",
    "magic_df_blood = classify_tissue_cells(\n",
    "    magic_df_blood,\n",
    "    cd8a_cutoff=cd8a_cutoff_blood,\n",
    "    cd8b_cutoff=cd8b_cutoff_blood,\n",
    "    cd4_cutoff=cd4_cutoff_blood,\n",
    ")"
   ]
  },
  {
   "cell_type": "code",
   "execution_count": 50,
   "id": "92f298d2",
   "metadata": {},
   "outputs": [],
   "source": [
    "# Save final classified blood labels to compressed CSV\n",
    "magic_df_blood.to_csv(\n",
    "    source_path / \"Brain_zenodo_final_blood_MAGIC_labels.csv.gz\", compression=\"gzip\"\n",
    ")"
   ]
  },
  {
   "cell_type": "markdown",
   "id": "51a53b87",
   "metadata": {},
   "source": [
    "## 4. Integration\n",
    "\n",
    "### 4.1 Integration of scRNA-seq and TCR-seq Annotations\n",
    "\n",
    "We combine the cell type classifications with TCR information and add study-level metadata."
   ]
  },
  {
   "cell_type": "code",
   "execution_count": 51,
   "id": "26c82550",
   "metadata": {},
   "outputs": [],
   "source": [
    "# Add TCR clonotype and receptor type information to the main AnnData object\n",
    "adata.obs[\"clone_id\"] = adata_tcr.obs[\"clone_id\"]\n",
    "adata.obs[\"receptor_type\"] = adata_tcr.obs[\"receptor_type\"]"
   ]
  },
  {
   "cell_type": "code",
   "execution_count": 52,
   "id": "cf7e0439",
   "metadata": {},
   "outputs": [],
   "source": [
    "# Add study metadata: cancer type and publication reference\n",
    "adata.obs[\"cancer_type\"] = \"Brain Tumors\"\n",
    "adata.obs[\"study\"] = \"Wang et al. 2024 (Brain)\""
   ]
  },
  {
   "cell_type": "code",
   "execution_count": 53,
   "id": "a15a82b6",
   "metadata": {},
   "outputs": [],
   "source": [
    "# Combine tumor and blood cell type classifications\n",
    "magic_labels = pd.concat([magic_df_tumor, magic_df_blood])"
   ]
  },
  {
   "cell_type": "code",
   "execution_count": 54,
   "id": "79fcf6b2",
   "metadata": {},
   "outputs": [],
   "source": [
    "# Add final cell type labels to the main AnnData object\n",
    "adata.obs[\"imputed_labels\"] = magic_labels[\"final_type\"]"
   ]
  },
  {
   "cell_type": "markdown",
   "id": "1d4e26ca",
   "metadata": {},
   "source": [
    "### 4.2 Patient ID Extraction\n",
    "\n",
    "Extract patient identifiers from sample names for downstream analysis."
   ]
  },
  {
   "cell_type": "code",
   "execution_count": 55,
   "id": "dc774c66",
   "metadata": {},
   "outputs": [],
   "source": [
    "# Extract patient ID from sample names and ensure string types\n",
    "adata.obs[\"patient\"] = adata.obs[\"sample\"].str.split(\"_\").str[0]\n",
    "adata.obs[\"sample\"] = adata.obs[\"sample\"].astype(str)\n",
    "adata.obs[\"tissue_type\"] = adata.obs[\"tissue_type\"].astype(str)"
   ]
  },
  {
   "cell_type": "markdown",
   "id": "9faa6053",
   "metadata": {},
   "source": [
    "## 5. Clonal Expansion\n",
    "\n",
    "### 5.1 Clone Size Calculation\n",
    "\n",
    "We create unique clone identifiers and calculate the size of each clone **per sample**."
   ]
  },
  {
   "cell_type": "code",
   "execution_count": 56,
   "id": "d569b63c",
   "metadata": {},
   "outputs": [],
   "source": [
    "# Create unique clone IDs incorporating patient, clonotype, and cell type; calculate clone sizes per sample\n",
    "# This way, the same clone in different samples obtained from the same patient will have a per-sample size instead of a global size\n",
    "adata.obs[\"clone_id\"] = (\n",
    "    adata.obs[\"patient\"].astype(str)\n",
    "    + \"_\"\n",
    "    + adata.obs[\"clone_id\"].astype(str)\n",
    "    + \"_\"\n",
    "    + adata.obs[\"imputed_labels\"].astype(str)\n",
    ")\n",
    "adata.obs[\"clone_id_size\"] = adata.obs.groupby([\"sample\", \"clone_id\"]).transform(\"size\")"
   ]
  },
  {
   "cell_type": "markdown",
   "id": "c4e94903",
   "metadata": {},
   "source": [
    "### 5.2 Expansion Status Determination\n",
    "\n",
    "We classify clones as expanded or non-expanded using the criteria adopted by [Shiao et al.](https://doi.org/10.1016/j.ccell.2023.12.012) and [Shorer et al.](https://doi.org/10.1016/j.xgen.2025.100842):\n",
    "- A clone is considered **expanded** per sample if its size is > 1.5 times the median clone size in that sample (while excluding singletons from the median calculation)"
   ]
  },
  {
   "cell_type": "code",
   "execution_count": 57,
   "id": "d58f94dc",
   "metadata": {},
   "outputs": [],
   "source": [
    "# Classify clones as expanded or non-expanded using Shiao/shorer et al. criteria (>1.5x median)\n",
    "# Calculate median clone size per sample\n",
    "clone_sizes = (\n",
    "    adata[adata.obs[\"clone_id_size\"] > 1]\n",
    "    .obs.groupby([\"sample\", \"clone_id\"])\n",
    "    .size()\n",
    "    .reset_index(name=\"clone_size\")[[\"sample\", \"clone_size\"]]\n",
    ")\n",
    "median_clone_sizes = clone_sizes.groupby(\"sample\").median()\n",
    "median_clone_sizes[\"1.5x_median\"] = median_clone_sizes[\"clone_size\"] * 1.5\n",
    "median_clone_sizes = median_clone_sizes.reset_index()\n",
    "\n",
    "# Merge back to adata\n",
    "tmp = (\n",
    "    adata.obs.reset_index()\n",
    "    .merge(median_clone_sizes, on=\"sample\", how=\"left\")\n",
    "    .set_index(\"index\")\n",
    ")\n",
    "adata.obs[\"median_clone_size\"] = tmp[\"clone_size\"]\n",
    "adata.obs[\"1.5x_median_clone_size\"] = tmp[\"1.5x_median\"]\n",
    "\n",
    "# Vectorized expansion classification:\n",
    "adata.obs[\"expansion\"] = np.where(\n",
    "    adata.obs[\"1.5x_median_clone_size\"] < adata.obs[\"clone_id_size\"],\n",
    "    \"expanded\",\n",
    "    \"non_expanded\",\n",
    ")"
   ]
  },
  {
   "cell_type": "markdown",
   "id": "71d9399d",
   "metadata": {},
   "source": [
    "## 6. Export\n",
    "\n",
    "### 6.1 Gene Name Reorganization for Model Training\n",
    "\n",
    "Reorganize gene names as ensembl_ids for compatibility with downstream tools."
   ]
  },
  {
   "cell_type": "code",
   "execution_count": 58,
   "id": "d4bf1324",
   "metadata": {},
   "outputs": [],
   "source": [
    "# Reorganize gene metadata to use ensembl_ids as index with gene names as column\n",
    "adata.var = adata.var.rename_axis(\"gene_name\").reset_index().set_index(\"gene_ids\")"
   ]
  },
  {
   "cell_type": "markdown",
   "id": "62b7d15a",
   "metadata": {},
   "source": [
    "### 6.2 Save Processed Data\n",
    "\n",
    "Save the fully processed AnnData object containing:\n",
    "- Raw and normalized expression data\n",
    "- Cell type annotations\n",
    "- TCR information and clonotypes\n",
    "- T-cell clonal expansion status\n",
    "- All relevant metadata\n",
    "\n",
    "**Note**: Uncomment the save line below to export the processed data."
   ]
  },
  {
   "cell_type": "code",
   "execution_count": 59,
   "id": "a7c3f005",
   "metadata": {},
   "outputs": [
    {
     "data": {
      "text/plain": [
       "tissue_type  sample         expansion   \n",
       "Blood        G4A112Re_PBMC  expanded         324\n",
       "                            non_expanded     795\n",
       "             GBM106_PBMC    expanded         272\n",
       "                            non_expanded    2678\n",
       "             GBM111Re_PBMC  expanded          30\n",
       "                            non_expanded     560\n",
       "             GBM113_PBMC    expanded         409\n",
       "                            non_expanded     581\n",
       "             GBM114_PBMC    expanded          45\n",
       "                            non_expanded     344\n",
       "Tumor        BrMet009       expanded         621\n",
       "                            non_expanded     397\n",
       "             BrMet010       expanded         228\n",
       "                            non_expanded     684\n",
       "             BrMet018       expanded         232\n",
       "                            non_expanded    1352\n",
       "             BrMet027       expanded         737\n",
       "                            non_expanded    2158\n",
       "             BrMet028       expanded         135\n",
       "                            non_expanded    1446\n",
       "             G4A062         expanded         360\n",
       "                            non_expanded     829\n",
       "             G4A065Re       expanded         483\n",
       "                            non_expanded     344\n",
       "             G4A112Re_TIL   expanded        1204\n",
       "                            non_expanded    1653\n",
       "             GBM056         expanded          20\n",
       "                            non_expanded     215\n",
       "             GBM063         expanded          40\n",
       "                            non_expanded     501\n",
       "             GBM064         expanded         138\n",
       "                            non_expanded     730\n",
       "             GBM074         expanded         512\n",
       "                            non_expanded    1661\n",
       "             GBM098         expanded          30\n",
       "                            non_expanded     299\n",
       "             GBM104Re       expanded         159\n",
       "                            non_expanded     414\n",
       "             GBM105         expanded         321\n",
       "                            non_expanded    2279\n",
       "             GBM106_TIL     expanded         660\n",
       "                            non_expanded    1764\n",
       "             GBM111Re_TIL   expanded         112\n",
       "                            non_expanded     676\n",
       "             GBM113_TIL     expanded         649\n",
       "                            non_expanded    1425\n",
       "             GBM114_TIL     expanded         637\n",
       "                            non_expanded    2432\n",
       "             GBM115         expanded         325\n",
       "                            non_expanded    1975\n",
       "dtype: int64"
      ]
     },
     "execution_count": 59,
     "metadata": {},
     "output_type": "execute_result"
    }
   ],
   "source": [
    "# Display counts of expanded vs non-expanded cells by tissue type and sample\n",
    "adata.obs.groupby([\"tissue_type\", \"sample\", \"expansion\"]).size()"
   ]
  },
  {
   "cell_type": "code",
   "execution_count": 60,
   "id": "339452d7",
   "metadata": {},
   "outputs": [],
   "source": [
    "# Save the fully processed AnnData object (commented out - uncomment to save)\n",
    "# adata.write(os.path.join(source_path, \"scXpand_preprocessed_data_Brain_zenodo.h5ad\"), compression = 'gzip')"
   ]
  }
 ],
 "metadata": {
  "kernelspec": {
   "display_name": "scxpand",
   "language": "python",
   "name": "python3"
  },
  "language_info": {
   "codemirror_mode": {
    "name": "ipython",
    "version": 3
   },
   "file_extension": ".py",
   "mimetype": "text/x-python",
   "name": "python",
   "nbconvert_exporter": "python",
   "pygments_lexer": "ipython3",
   "version": "3.13.5"
  }
 },
 "nbformat": 4,
 "nbformat_minor": 5
}
