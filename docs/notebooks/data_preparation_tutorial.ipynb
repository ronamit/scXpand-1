{
 "cells": [
  {
   "cell_type": "markdown",
   "id": "39e7b68c",
   "metadata": {},
   "source": [
    "  # scXpand Tutorial: Example of Data Preparation for Model Training and Optimization\n",
    "\n",
    "\n",
    "\n",
    "\n",
    "\n",
    "\n",
    "\n",
    "  This tutorial demonstrates how to prepare paired scRNA/TCR-seq data as an input for model training and optimization.\n",
    "\n",
    "\n",
    "\n",
    "\n",
    "\n",
    "\n",
    "\n",
    "  ## Example Dataset\n",
    "\n",
    "\n",
    "\n",
    "\n",
    "\n",
    "\n",
    "\n",
    "  We use a publicly available paired scRNA/TCR-seq dataset of patients with brain tumors from:\n",
    "\n",
    "\n",
    "\n",
    "  - **Study**: Wang et al. 2024\n",
    "\n",
    "\n",
    "\n",
    "  - **Source**: https://zenodo.org/records/10672442\n",
    "\n",
    "\n",
    "  - **Data type**: Paired scRNA/TCR-seq\n",
    "\n",
    "\n",
    "\n",
    "  - **Cancer type**: Brain\n",
    "\n",
    "\n",
    "\n",
    "  - **Tissue**: Tumor and Blood samples\n",
    "\n",
    "\n",
    "\n",
    "\n",
    "\n",
    "\n",
    "\n",
    "  ## Tutorial Structure\n",
    "\n",
    "\n",
    "\n",
    "\n",
    "\n",
    "\n",
    "\n",
    "  - **Data Loading and Initial Processing**\n",
    "\n",
    "\n",
    "\n",
    "  - **Quality Control and Filtering**\n",
    "\n",
    "\n",
    "\n",
    "  - **Data Preparation for scXpand**"
   ]
  },
  {
   "cell_type": "markdown",
   "id": "44c586ee",
   "metadata": {},
   "source": [
    "## **Important note (!):**\n",
    "\n",
    "This tutorial was made available to **examplify the process** we conducted to prepare the data as an input for model training, using just one dataset as an example.\n",
    "\n",
    "It is highly recommended to directly use our pre-trained models rather than training them 'De-Novo' by yourselves."
   ]
  },
  {
   "cell_type": "markdown",
   "id": "a34795b6",
   "metadata": {},
   "source": [
    "---\n",
    "\n",
    "## Data Loading and Initial Processing\n",
    "\n",
    "### Loading scRNA-seq Data"
   ]
  },
  {
   "cell_type": "code",
   "execution_count": null,
   "id": "62387c31",
   "metadata": {},
   "outputs": [],
   "source": [
    "# Check required packages\n",
    "try:\n",
    "    import magic  # noqa: F401\n",
    "    import muon  # noqa: F401\n",
    "except ImportError as e:\n",
    "    missing = str(e).split(\"'\")[1]\n",
    "    print(f\"✗ Missing package: {missing}\")\n",
    "    print(\"Install with: pip install muon magic-impute\")\n",
    "    print(\n",
    "        \"Docs: https://muon.readthedocs.io | https://github.com/KrishnaswamyLab/MAGIC\"\n",
    "    )"
   ]
  },
  {
   "cell_type": "code",
   "execution_count": null,
   "id": "7b8862ef",
   "metadata": {},
   "outputs": [],
   "source": [
    "# Import required libraries for data analysis, visualization, and single-cell processing\n",
    "import os\n",
    "import sys\n",
    "from pathlib import Path\n",
    "\n",
    "import anndata as ad\n",
    "import matplotlib.pyplot as plt\n",
    "import muon as mu\n",
    "import numpy as np\n",
    "import pandas as pd\n",
    "import scanpy as sc\n",
    "import scirpy as ir\n",
    "import seaborn as sns\n",
    "from scipy.signal import argrelextrema, find_peaks\n",
    "\n",
    "# Set matplotlib backend for Jupyter notebooks\n",
    "%matplotlib inline\n",
    "\n",
    "# Plotting settings\n",
    "plt.rcParams[\"font.sans-serif\"] = [\"Arial\"]\n",
    "plt.rcParams[\"axes.axisbelow\"] = True\n",
    "sns.set_style(\"whitegrid\")\n",
    "\n",
    "# Setup project paths\n",
    "project_root = Path.cwd().parent.parent\n",
    "print(f\"Project root: {project_root}\")\n",
    "sys.path.insert(0, str(project_root))"
   ]
  },
  {
   "cell_type": "code",
   "execution_count": null,
   "id": "ccd1762d",
   "metadata": {},
   "outputs": [],
   "source": [
    "# Download the brain tumor dataset from Zenodo and extract to demo directory\n",
    "import pooch\n",
    "\n",
    "demo_path = project_root / \"data\" / \"demo\"\n",
    "cache_dir = demo_path / \".zenodo_cache\"\n",
    "\n",
    "# Create directories\n",
    "cache_dir.mkdir(exist_ok=True, parents=True)\n",
    "demo_path.mkdir(exist_ok=True, parents=True)\n",
    "\n",
    "# Construct Zenodo download URL\n",
    "zenodo_record_id = \"10672442\"\n",
    "filename = \"Raw_files.zip\"\n",
    "zenodo_url = f\"https://zenodo.org/records/{zenodo_record_id}/files/{filename}\"\n",
    "\n",
    "# Download and extract using Pooch\n",
    "downloaded_files = pooch.retrieve(\n",
    "    url=zenodo_url,\n",
    "    known_hash=None,  # Let Pooch compute hash automatically\n",
    "    path=str(cache_dir),\n",
    "    progressbar=True,\n",
    "    processor=pooch.Unzip(extract_dir=str(demo_path)),\n",
    ")\n",
    "\n",
    "source_path = demo_path / \"Raw_files\""
   ]
  },
  {
   "cell_type": "code",
   "execution_count": null,
   "id": "e12db3d5",
   "metadata": {},
   "outputs": [],
   "source": [
    "# Identify all sample directories in the dataset (excluding files and 'Grex' folder)\n",
    "samples = [\n",
    "    s for s in os.listdir(source_path) if (source_path / s).is_dir() and s != \"Grex\"\n",
    "]\n",
    "\n",
    "print(f\"Found {len(samples)} sample directories: {samples}\")"
   ]
  },
  {
   "cell_type": "code",
   "execution_count": null,
   "id": "ab8283a6",
   "metadata": {},
   "outputs": [],
   "source": [
    "# Define helper function to load 10X data and initialize AnnData object with first sample\n",
    "def load_sample_data(source_path: Path, sample: str) -> ad.AnnData:\n",
    "    \"\"\"Load and prepare 10X data for a single sample (optionally subset to first n_cells).\"\"\"\n",
    "    adata = sc.read_10x_mtx(source_path / sample / \"filtered_feature_bc_matrix\")\n",
    "\n",
    "    adata.obs[\"sample\"] = sample\n",
    "    adata.obs_names = [f\"{name.split('-')[0]}_{sample}\" for name in adata.obs_names]\n",
    "    return adata\n",
    "\n",
    "\n",
    "# Load first sample:\n",
    "adata = load_sample_data(source_path, samples[0])\n",
    "adata"
   ]
  },
  {
   "cell_type": "code",
   "execution_count": null,
   "id": "419f2923",
   "metadata": {},
   "outputs": [],
   "source": [
    "# Concatenate all remaining samples into a single AnnData object\n",
    "for sample in samples[1:]:\n",
    "    tmp = load_sample_data(source_path, sample)\n",
    "    adata = ad.concat([adata, tmp])"
   ]
  },
  {
   "cell_type": "code",
   "execution_count": null,
   "id": "2d93bcc6",
   "metadata": {},
   "outputs": [],
   "source": [
    "# Ensure consistent gene metadata across all samples\n",
    "adata.var = tmp.var.loc[adata.var_names]"
   ]
  },
  {
   "cell_type": "code",
   "execution_count": null,
   "id": "8c7b50e3",
   "metadata": {},
   "outputs": [],
   "source": [
    "# Display the combined dataset\n",
    "adata"
   ]
  },
  {
   "cell_type": "code",
   "execution_count": null,
   "id": "5767e0fc",
   "metadata": {},
   "outputs": [],
   "source": [
    "# Mark mitochondrial genes for quality control\n",
    "adata.var[\"mt\"] = adata.var_names.str.startswith(\"MT-\")"
   ]
  },
  {
   "cell_type": "code",
   "execution_count": null,
   "id": "9386ba35",
   "metadata": {},
   "outputs": [],
   "source": [
    "# Calculate quality control metrics including mitochondrial gene percentage\n",
    "sc.pp.calculate_qc_metrics(adata, qc_vars=[\"mt\"], inplace=True)"
   ]
  },
  {
   "cell_type": "code",
   "execution_count": null,
   "id": "01c385e8",
   "metadata": {},
   "outputs": [],
   "source": [
    "# Visualize distribution of mitochondrial gene percentage across cells\n",
    "sc.pl.violin(adata, \"pct_counts_mt\", jitter=0.1)"
   ]
  },
  {
   "cell_type": "code",
   "execution_count": null,
   "id": "f63f1b7d",
   "metadata": {},
   "outputs": [],
   "source": [
    "# Filter cells with high mitochondrial content (<10%), low gene count, and rare genes\n",
    "adata = adata[adata.obs.pct_counts_mt < 10, :]\n",
    "sc.pp.filter_cells(adata, min_genes=200)\n",
    "sc.pp.filter_genes(adata, min_cells=3)\n",
    "adata"
   ]
  },
  {
   "cell_type": "code",
   "execution_count": null,
   "id": "35d6a368",
   "metadata": {},
   "outputs": [],
   "source": [
    "# Run Scrublet to detect doublets (two cells captured as one)\n",
    "sc.pp.scrublet(adata, expected_doublet_rate=0.05, random_state=42)"
   ]
  },
  {
   "cell_type": "code",
   "execution_count": null,
   "id": "d12ef7d6",
   "metadata": {},
   "outputs": [],
   "source": [
    "# Visualize doublet score distribution\n",
    "sc.pl.scrublet_score_distribution(adata)"
   ]
  },
  {
   "cell_type": "code",
   "execution_count": null,
   "id": "25e643c9",
   "metadata": {},
   "outputs": [],
   "source": [
    "# Remove cells with high doublet scores (threshold = 0.3)\n",
    "doublet_threshold = 0.3\n",
    "adata = adata[adata.obs[\"doublet_score\"] < doublet_threshold]\n",
    "print(f\"Remaining cells after doublet filtering: {adata.n_obs}\")"
   ]
  },
  {
   "cell_type": "code",
   "execution_count": null,
   "id": "b31d5347",
   "metadata": {},
   "outputs": [],
   "source": [
    "# Store raw counts in a separate layer before normalization\n",
    "adata.layers[\"counts\"] = adata.X.copy()"
   ]
  },
  {
   "cell_type": "code",
   "execution_count": null,
   "id": "ad42d760",
   "metadata": {},
   "outputs": [],
   "source": [
    "# Assign tissue type based on sample name (PBMC = Blood, others = Tumor)\n",
    "adata.obs[\"tissue_type\"] = np.where(\n",
    "    adata.obs[\"sample\"].str.contains(\"PBMC\"), \"Blood\", \"Tumor\"\n",
    ")"
   ]
  },
  {
   "cell_type": "markdown",
   "id": "2ad3d97b",
   "metadata": {},
   "source": [
    "---\n",
    "\n",
    "## TCR-seq Data Processing\n",
    "\n",
    "### Loading and Quality Control of TCR-seq Data"
   ]
  },
  {
   "cell_type": "code",
   "execution_count": null,
   "id": "15cb0afc",
   "metadata": {},
   "outputs": [],
   "source": [
    "# Define helper function to load TCR-seq data and load first sample\n",
    "def load_tcr_sample(source_path: Path, sample: str) -> ad.AnnData | None:\n",
    "    \"\"\"Load and prepare 10X VDJ data for a single sample (returns None if file doesn't exist).\"\"\"\n",
    "    tcr_path = source_path / sample / \"filtered_contig_annotations.csv\"\n",
    "    if not tcr_path.exists():\n",
    "        return None\n",
    "    adata_tcr = ir.io.read_10x_vdj(tcr_path)\n",
    "    adata_tcr.obs_names = [\n",
    "        f\"{name.split('-')[0]}_{sample}\" for name in adata_tcr.obs_names\n",
    "    ]\n",
    "    return adata_tcr\n",
    "\n",
    "\n",
    "# Load first sample:\n",
    "adata_tcr = load_tcr_sample(source_path, samples[0])\n",
    "adata_tcr"
   ]
  },
  {
   "cell_type": "code",
   "execution_count": null,
   "id": "fc3a398e",
   "metadata": {
    "scrolled": true
   },
   "outputs": [],
   "source": [
    "# Concatenate TCR data from all remaining samples\n",
    "for sample in samples[1:]:\n",
    "    tmp = load_tcr_sample(source_path, sample)\n",
    "    if tmp is not None:\n",
    "        adata_tcr = ad.concat([adata_tcr, tmp])"
   ]
  },
  {
   "cell_type": "code",
   "execution_count": null,
   "id": "34b783d8",
   "metadata": {},
   "outputs": [],
   "source": [
    "# Index TCR chains and perform quality control\n",
    "ir.pp.index_chains(adata_tcr)\n",
    "ir.tl.chain_qc(adata_tcr)"
   ]
  },
  {
   "cell_type": "code",
   "execution_count": null,
   "id": "5b390c19",
   "metadata": {},
   "outputs": [],
   "source": [
    "# Visualize abundance of different receptor subtypes (TCR, BCR, etc.)\n",
    "ir.pl.group_abundance(adata_tcr, groupby=\"receptor_subtype\")"
   ]
  },
  {
   "cell_type": "code",
   "execution_count": null,
   "id": "8edd9a5c",
   "metadata": {},
   "outputs": [],
   "source": [
    "# Display counts of cells per receptor subtype\n",
    "adata_tcr.obs.groupby(\"receptor_subtype\").size()"
   ]
  },
  {
   "cell_type": "code",
   "execution_count": null,
   "id": "4101b3d0",
   "metadata": {},
   "outputs": [],
   "source": [
    "# Calculate and display the fraction of cells with multiple TCR pairs\n",
    "multichain_types = [\"extra VJ\", \"extra VDJ\", \"two full chains\", \"multichain\"]\n",
    "multichain_fraction = adata_tcr.obs[\"chain_pairing\"].isin(multichain_types).mean()\n",
    "print(f\"Fraction of cells with more than one pair of TCRs: {multichain_fraction:.2f}\")"
   ]
  },
  {
   "cell_type": "code",
   "execution_count": null,
   "id": "3b174a5a",
   "metadata": {},
   "outputs": [],
   "source": [
    "# Filter out cells with multichain TCRs (ambiguous pairing)\n",
    "mu.pp.filter_obs(adata_tcr, \"chain_pairing\", lambda x: x != \"multichain\")\n",
    "adata_tcr"
   ]
  },
  {
   "cell_type": "code",
   "execution_count": null,
   "id": "393f9ff7",
   "metadata": {},
   "outputs": [],
   "source": [
    "# Remove cells with orphan chains (incomplete TCR pairs)\n",
    "mu.pp.filter_obs(\n",
    "    adata_tcr, \"chain_pairing\", lambda x: ~np.isin(x, [\"orphan VDJ\", \"orphan VJ\"])\n",
    ")\n",
    "adata_tcr"
   ]
  },
  {
   "cell_type": "code",
   "execution_count": null,
   "id": "b9a376b4",
   "metadata": {},
   "outputs": [],
   "source": [
    "# Filter out cells with no immune receptor detected\n",
    "adata_tcr = adata_tcr[adata_tcr.obs[\"receptor_subtype\"] != \"no IR\"]\n",
    "adata_tcr"
   ]
  },
  {
   "cell_type": "code",
   "execution_count": null,
   "id": "b3c38e96",
   "metadata": {},
   "outputs": [],
   "source": [
    "# Calculate TCR sequence distance matrix for clonotype definition\n",
    "ir.pp.ir_dist(adata_tcr)"
   ]
  },
  {
   "cell_type": "code",
   "execution_count": null,
   "id": "1f323b4c",
   "metadata": {},
   "outputs": [],
   "source": [
    "# Define clonotypes (cells with identical TCR sequences)\n",
    "ir.tl.define_clonotypes(adata_tcr, receptor_arms=\"all\", dual_ir=\"primary_only\")"
   ]
  },
  {
   "cell_type": "code",
   "execution_count": null,
   "id": "237bdd3e",
   "metadata": {},
   "outputs": [],
   "source": [
    "# Keep only cells that have both scRNA-seq and TCR-seq data\n",
    "adata = adata[adata.obs_names.isin(adata_tcr.obs_names)].copy()"
   ]
  },
  {
   "cell_type": "markdown",
   "id": "453f15b3",
   "metadata": {},
   "source": [
    "---\n",
    "\n",
    "## Cell Type Classification Using MAGIC Imputation\n",
    "\n",
    "### Important Note\n",
    "\n",
    "In our manuscript, MAGIC was applied on the integrated data using all single-cell studies together for better robustness, and not for each study separately. Here, we demonstrate the process on a single dataset for tutorial purposes.\n"
   ]
  },
  {
   "cell_type": "markdown",
   "id": "bd62d7cd",
   "metadata": {},
   "source": [
    "### Processing Tumor Samples\n",
    "\n",
    "First, we'll process the tumor-infiltrating T cells:"
   ]
  },
  {
   "cell_type": "code",
   "execution_count": null,
   "id": "6de067b5",
   "metadata": {},
   "outputs": [],
   "source": [
    "# Subset data to tumor samples only\n",
    "adata_tumor = adata[adata.obs[\"tissue_type\"] == \"Tumor\"]"
   ]
  },
  {
   "cell_type": "code",
   "execution_count": null,
   "id": "a410bfb4",
   "metadata": {},
   "outputs": [],
   "source": [
    "# Normalize and log-transform tumor data (target sum = 10,000, log base 2)\n",
    "sc.pp.normalize_total(adata_tumor, target_sum=1e4)\n",
    "sc.pp.log1p(adata_tumor, base=2)"
   ]
  },
  {
   "cell_type": "code",
   "execution_count": null,
   "id": "39626f41",
   "metadata": {},
   "outputs": [],
   "source": [
    "# Apply MAGIC imputation to denoise and impute T cell marker genes\n",
    "adata_magic_tumor = sc.external.pp.magic(\n",
    "    adata_tumor,\n",
    "    name_list=[\"CD8A\", \"CD8B\", \"CD4\", \"FOXP3\", \"CD3E\", \"PTPRC\"],\n",
    "    random_state=42,\n",
    ")"
   ]
  },
  {
   "cell_type": "code",
   "execution_count": null,
   "id": "d305e32c",
   "metadata": {},
   "outputs": [],
   "source": [
    "# Extract original (non-imputed) gene expression values\n",
    "non_imputed_df = sc.get.obs_df(adata_tumor, list(adata_magic_tumor.var_names))"
   ]
  },
  {
   "cell_type": "code",
   "execution_count": null,
   "id": "0d30596c",
   "metadata": {},
   "outputs": [],
   "source": [
    "# Combine MAGIC-imputed and original expression values into one dataframe\n",
    "magic_df_tumor = sc.get.obs_df(adata_magic_tumor, list(adata_magic_tumor.var_names))\n",
    "magic_df_tumor.columns = [f\"{col}_Imputed\" for col in magic_df_tumor.columns]\n",
    "magic_df_tumor = magic_df_tumor.join(non_imputed_df)"
   ]
  },
  {
   "cell_type": "code",
   "execution_count": null,
   "id": "0002dbb4",
   "metadata": {},
   "outputs": [],
   "source": [
    "# Save tumor MAGIC labels to compressed CSV\n",
    "magic_df_tumor.to_csv(\n",
    "    source_path / \"Brain_zenodo_MAGIC_labels_tumor.csv.gz\", compression=\"gzip\"\n",
    ")"
   ]
  },
  {
   "cell_type": "code",
   "execution_count": null,
   "id": "051204a5",
   "metadata": {},
   "outputs": [],
   "source": [
    "# Define function to classify T cells as CD8, CD4, Double Positive, or Double Negative\n",
    "def classify_cell_type(is_cd8a: bool, is_cd8b: bool, is_cd4: bool) -> str:\n",
    "    \"\"\"Classify as CD8/CD4/Double_Positive/Double_Negative based on marker expression.\"\"\"\n",
    "    has_cd8 = is_cd8a | is_cd8b\n",
    "    if has_cd8 & ~is_cd4:\n",
    "        return \"is_CD8\"\n",
    "    elif ~has_cd8 & is_cd4:\n",
    "        return \"is_CD4\"\n",
    "    elif has_cd8 & is_cd4:\n",
    "        return \"Double_Positive\"\n",
    "    else:\n",
    "        return \"Double_Negative\""
   ]
  },
  {
   "cell_type": "code",
   "execution_count": null,
   "id": "9d0ff609",
   "metadata": {},
   "outputs": [],
   "source": [
    "# Define function to reconcile original and MAGIC-imputed cell type classifications\n",
    "def reconcile_cell_types(original: str, magic: str) -> str:\n",
    "    \"\"\"\n",
    "    Reconcile original and MAGIC classifications using priority rules:\n",
    "    - Double_Positive takes precedence\n",
    "    - Original CD8/CD4 retained if MAGIC agrees or is Double_Negative\n",
    "    - MAGIC result used if original is Double_Negative\n",
    "    \"\"\"\n",
    "    if original == \"Double_Positive\":\n",
    "        return \"Double_Positive\"\n",
    "    elif original == \"is_CD8\" and magic in [\"is_CD4\", \"Double_Negative\", \"is_CD8\"]:\n",
    "        return \"is_CD8\"\n",
    "    elif original == \"is_CD4\" and magic in [\"is_CD4\", \"Double_Negative\", \"is_CD8\"]:\n",
    "        return \"is_CD4\"\n",
    "    elif original in [\"is_CD4\", \"is_CD8\"] and magic == \"Double_Positive\":\n",
    "        return \"Double_Positive\"\n",
    "    elif original == \"Double_Negative\":\n",
    "        return magic\n",
    "    return original"
   ]
  },
  {
   "cell_type": "code",
   "execution_count": null,
   "id": "e9c39dd4",
   "metadata": {},
   "outputs": [],
   "source": [
    "# Define function to identify regulatory T cells (Treg) based on FOXP3 expression\n",
    "def identify_treg_cells(row: pd.Series) -> str:\n",
    "    \"\"\"Mark CD4+ cells with FOXP3 > 1 as Treg.\"\"\"\n",
    "    if row[\"final_type\"] == \"is_CD4\" and (row[\"FOXP3\"] > 1 or row[\"FOXP3_Imputed\"] > 1):\n",
    "        return \"is_Treg\"\n",
    "    return row[\"final_type\"]"
   ]
  },
  {
   "cell_type": "code",
   "execution_count": null,
   "id": "30dbe304",
   "metadata": {},
   "outputs": [],
   "source": [
    "# Define complete vectorized pipeline for cell type classification with cutoffs\n",
    "def classify_tissue_cells(\n",
    "    df: pd.DataFrame, cd8a_cutoff: float, cd8b_cutoff: float, cd4_cutoff: float\n",
    ") -> pd.DataFrame:\n",
    "    \"\"\"\n",
    "    Complete classification pipeline using vectorized operations:\n",
    "    1. Classify based on imputed expression (MAGIC)\n",
    "    2. Classify based on original expression\n",
    "    3. Reconcile both classifications\n",
    "    4. Identify Treg cells\n",
    "    \"\"\"\n",
    "    # Vectorized classification based on imputed expression:\n",
    "    is_cd8a_imp = df[\"CD8A_Imputed\"] > cd8a_cutoff\n",
    "    is_cd8b_imp = df[\"CD8B_Imputed\"] > cd8b_cutoff\n",
    "    is_cd4_imp = df[\"CD4_Imputed\"] > cd4_cutoff\n",
    "    has_cd8_imp = is_cd8a_imp | is_cd8b_imp\n",
    "\n",
    "    # Initialize and assign MAGIC cell types:\n",
    "    df[\"MAGIC_Cell_Type\"] = \"Double_Negative\"\n",
    "    df.loc[has_cd8_imp & ~is_cd4_imp, \"MAGIC_Cell_Type\"] = \"is_CD8\"\n",
    "    df.loc[~has_cd8_imp & is_cd4_imp, \"MAGIC_Cell_Type\"] = \"is_CD4\"\n",
    "    df.loc[has_cd8_imp & is_cd4_imp, \"MAGIC_Cell_Type\"] = \"Double_Positive\"\n",
    "\n",
    "    # Vectorized classification based on original expression:\n",
    "    is_cd8a_orig = df[\"CD8A\"] > 1\n",
    "    is_cd8b_orig = df[\"CD8B\"] > 1\n",
    "    is_cd4_orig = df[\"CD4\"] > 1\n",
    "    has_cd8_orig = is_cd8a_orig | is_cd8b_orig\n",
    "\n",
    "    # Initialize and assign original cell types:\n",
    "    df[\"type_original\"] = \"Double_Negative\"\n",
    "    df.loc[has_cd8_orig & ~is_cd4_orig, \"type_original\"] = \"is_CD8\"\n",
    "    df.loc[~has_cd8_orig & is_cd4_orig, \"type_original\"] = \"is_CD4\"\n",
    "    df.loc[has_cd8_orig & is_cd4_orig, \"type_original\"] = \"Double_Positive\"\n",
    "\n",
    "    # Vectorized reconciliation of classifications:\n",
    "    df[\"final_type\"] = df[\"type_original\"].copy()\n",
    "\n",
    "    # Apply reconciliation rules using boolean masks:\n",
    "    cd8_mask = (df[\"type_original\"] == \"is_CD8\") & df[\"MAGIC_Cell_Type\"].isin(\n",
    "        [\"is_CD4\", \"Double_Negative\", \"is_CD8\"]\n",
    "    )\n",
    "    df.loc[cd8_mask, \"final_type\"] = \"is_CD8\"\n",
    "\n",
    "    cd4_mask = (df[\"type_original\"] == \"is_CD4\") & df[\"MAGIC_Cell_Type\"].isin(\n",
    "        [\"is_CD4\", \"Double_Negative\", \"is_CD8\"]\n",
    "    )\n",
    "    df.loc[cd4_mask, \"final_type\"] = \"is_CD4\"\n",
    "\n",
    "    double_pos_mask = df[\"type_original\"].isin([\"is_CD4\", \"is_CD8\"]) & (\n",
    "        df[\"MAGIC_Cell_Type\"] == \"Double_Positive\"\n",
    "    )\n",
    "    df.loc[double_pos_mask, \"final_type\"] = \"Double_Positive\"\n",
    "\n",
    "    double_neg_mask = df[\"type_original\"] == \"Double_Negative\"\n",
    "    df.loc[double_neg_mask, \"final_type\"] = df.loc[double_neg_mask, \"MAGIC_Cell_Type\"]\n",
    "\n",
    "    # Vectorized Treg identification:\n",
    "    treg_mask = (df[\"final_type\"] == \"is_CD4\") & (\n",
    "        (df[\"FOXP3\"] > 1) | (df[\"FOXP3_Imputed\"] > 1)\n",
    "    )\n",
    "    df.loc[treg_mask, \"final_type\"] = \"is_Treg\"\n",
    "\n",
    "    return df"
   ]
  },
  {
   "cell_type": "code",
   "execution_count": null,
   "id": "305cab7e",
   "metadata": {},
   "outputs": [],
   "source": [
    "# Save tumor MAGIC labels again (redundant save - cell 41 already saves this)\n",
    "magic_df_tumor.to_csv(\n",
    "    os.path.join(source_path, \"Brain_zenodo_MAGIC_labels_tumor.csv.gz\"),\n",
    "    compression=\"gzip\",\n",
    ")"
   ]
  },
  {
   "cell_type": "markdown",
   "id": "c6bfc42d",
   "metadata": {},
   "source": [
    "## Determining Expression Cutoffs"
   ]
  },
  {
   "cell_type": "markdown",
   "id": "76ef67a1",
   "metadata": {},
   "source": [
    "### Automatic Cutoff Determination Pipeline\n",
    "\n",
    "Our pipeline automatically determines optimal expression thresholds using a three-step approach:\n",
    "\n",
    "#### 1. **Automatic Clip Range Determination**\n",
    "- Uses 1st and 99th percentiles of expression values with a 5% buffer\n",
    "- Ensures the KDE plot captures the relevant expression range without manual tuning\n",
    "\n",
    "#### 2. **Local Minimum Detection**\n",
    "- Finds all local minima (troughs) in the KDE density curve using `scipy.signal.argrelextrema`\n",
    "- Filters out edge artifacts (outer 5% of the distribution)\n",
    "- Selects the **first (leftmost) interior local minimum** as the cutoff\n",
    "- This naturally identifies the trough between negative and positive cell populations\n",
    "\n",
    "#### 3. **Visual Validation**\n",
    "- Plots show:\n",
    "  - **Green circles (P1, P2, ...)**: Detected peaks (for reference)\n",
    "  - **Blue circles (M1, M2, ...)**: Detected local minima\n",
    "  - **Blue star with ✓**: Selected cutoff (first local minimum)\n",
    "  - **Red dashed line**: Final cutoff value"
   ]
  },
  {
   "cell_type": "code",
   "execution_count": null,
   "id": "ddd67397",
   "metadata": {},
   "outputs": [],
   "source": [
    "# Define helper functions for automatic cutoff determination\n",
    "\n",
    "\n",
    "def determine_clip_range(\n",
    "    data: pd.Series, lower_percentile: float = 1, upper_percentile: float = 99\n",
    ") -> list[float]:\n",
    "    \"\"\"\n",
    "    Automatically determine clip range for KDE plotting based on data percentiles.\n",
    "\n",
    "    Args:\n",
    "        data: Series of gene expression values\n",
    "        lower_percentile: Lower percentile for clipping (default 1st percentile)\n",
    "        upper_percentile: Upper percentile for clipping (default 99th percentile)\n",
    "\n",
    "    Returns:\n",
    "        [lower_bound, upper_bound] for clipping\n",
    "    \"\"\"\n",
    "    lower = np.percentile(data, lower_percentile)\n",
    "    upper = np.percentile(data, upper_percentile)\n",
    "\n",
    "    # Add small buffer (5% of range) to ensure we don't cut off important data\n",
    "    data_range = upper - lower\n",
    "    buffer = data_range * 0.05\n",
    "\n",
    "    return [max(0, lower - buffer), upper + buffer]\n",
    "\n",
    "\n",
    "def plot_expression_density_with_cutoff(\n",
    "    data: pd.DataFrame, gene_name: str, clip_range: list[float] | None = None, ax=None\n",
    ") -> float:\n",
    "    \"\"\"Plot expression density and return cutoff value at first local minimum (trough) between populations.\"\"\"\n",
    "\n",
    "    if ax is None:\n",
    "        fig, ax = plt.subplots(1, 1, figsize=(10, 6))\n",
    "\n",
    "    # Set random seed for reproducible KDE calculation\n",
    "    np.random.seed(42)\n",
    "\n",
    "    # Auto-determine clip range if not provided\n",
    "    if clip_range is None:\n",
    "        clip_range = determine_clip_range(data[gene_name])\n",
    "        print(\n",
    "            f\"  Auto-determined clip range for {gene_name}: [{clip_range[0]:.3f}, {clip_range[1]:.3f}]\"\n",
    "        )\n",
    "\n",
    "    # Generate KDE plot\n",
    "    sns.kdeplot(data[gene_name], clip=clip_range, ax=ax)\n",
    "\n",
    "    line = ax.lines[0]\n",
    "    x, y = line.get_data()\n",
    "\n",
    "    # Find all local minima in the density curve\n",
    "    local_minima = argrelextrema(y, np.less)[0]\n",
    "\n",
    "    # Filter out edge minima (first and last 5% of points)\n",
    "    edge_threshold = int(len(y) * 0.05)\n",
    "    interior_minima = local_minima[\n",
    "        (local_minima > edge_threshold) & (local_minima < len(y) - edge_threshold)\n",
    "    ]\n",
    "\n",
    "    if len(interior_minima) == 0:\n",
    "        raise ValueError(\n",
    "            f\"No local minimum found for {gene_name} (excluding edges). \"\n",
    "            f\"The distribution may not be bimodal. Please check the expression distribution \"\n",
    "            f\"or set cutoffs manually.\"\n",
    "        )\n",
    "\n",
    "    # Use the first local minimum (leftmost) as the cutoff\n",
    "    # This should be the trough between negative and positive populations\n",
    "    min_idx = interior_minima[0]\n",
    "    cutoff_x = x[min_idx]\n",
    "    cutoff_y = y[min_idx]\n",
    "\n",
    "    # Find peaks for visualization (optional, but helpful for validation)\n",
    "    peaks, _ = find_peaks(y, prominence=0.005)\n",
    "\n",
    "    # Mark all local minima for visualization\n",
    "    ax.plot(\n",
    "        x[interior_minima],\n",
    "        y[interior_minima],\n",
    "        \"bo\",\n",
    "        markersize=8,\n",
    "        label=\"Local minima\",\n",
    "        zorder=5,\n",
    "        alpha=0.6,\n",
    "    )\n",
    "\n",
    "    # Highlight the selected cutoff (first local minimum)\n",
    "    ax.plot(\n",
    "        x[min_idx],\n",
    "        y[min_idx],\n",
    "        \"b*\",\n",
    "        markersize=15,\n",
    "        markeredgecolor=\"darkblue\",\n",
    "        markeredgewidth=1.5,\n",
    "        label=\"Selected cutoff\",\n",
    "        zorder=7,\n",
    "    )\n",
    "\n",
    "    # Mark peaks if detected (for reference)\n",
    "    if len(peaks) > 0:\n",
    "        ax.plot(\n",
    "            x[peaks],\n",
    "            y[peaks],\n",
    "            \"go\",\n",
    "            markersize=8,\n",
    "            label=\"Detected peaks\",\n",
    "            zorder=5,\n",
    "            alpha=0.6,\n",
    "        )\n",
    "\n",
    "        # Add numbered labels to peaks (sorted by x-position)\n",
    "        sorted_peaks = peaks[np.argsort(x[peaks])]\n",
    "        for peak_num, peak_idx in enumerate(\n",
    "            sorted_peaks[:3], start=1\n",
    "        ):  # Show first 3 peaks\n",
    "            ax.annotate(\n",
    "                f\"P{peak_num}\",\n",
    "                xy=(x[peak_idx], y[peak_idx]),\n",
    "                xytext=(0, 8),\n",
    "                textcoords=\"offset points\",\n",
    "                ha=\"center\",\n",
    "                fontsize=10,\n",
    "                fontweight=\"bold\",\n",
    "                color=\"darkgreen\",\n",
    "                bbox={\n",
    "                    \"boxstyle\": \"circle,pad=0.2\",\n",
    "                    \"facecolor\": \"white\",\n",
    "                    \"edgecolor\": \"darkgreen\",\n",
    "                    \"linewidth\": 1,\n",
    "                },\n",
    "            )\n",
    "\n",
    "    # Add numbered labels to local minima\n",
    "    for min_num, min_idx_i in enumerate(\n",
    "        interior_minima[:3], start=1\n",
    "    ):  # Show first 3 minima\n",
    "        label_text = f\"M{min_num}\" if min_idx_i != min_idx else \"M1✓\"\n",
    "        ax.annotate(\n",
    "            label_text,\n",
    "            xy=(x[min_idx_i], y[min_idx_i]),\n",
    "            xytext=(0, -12),\n",
    "            textcoords=\"offset points\",\n",
    "            ha=\"center\",\n",
    "            fontsize=10,\n",
    "            fontweight=\"bold\",\n",
    "            color=\"darkblue\",\n",
    "            bbox={\n",
    "                \"boxstyle\": \"circle,pad=0.2\",\n",
    "                \"facecolor\": \"white\",\n",
    "                \"edgecolor\": \"darkblue\",\n",
    "                \"linewidth\": 1,\n",
    "            },\n",
    "        )\n",
    "\n",
    "    ax.axvline(\n",
    "        x=cutoff_x, color=\"r\", linestyle=\"--\", lw=2, label=f\"Cutoff: {cutoff_x:.4f}\"\n",
    "    )\n",
    "    ax.axhline(y=cutoff_y, color=\"r\", linestyle=\"--\", lw=2, alpha=0.5)\n",
    "    ax.set_title(f\"{gene_name}\")\n",
    "    ax.set_xlabel(\"Gene Expression\")\n",
    "    ax.set_ylabel(\"Density\")\n",
    "    ax.legend(loc=\"best\", fontsize=9)\n",
    "\n",
    "    return cutoff_x\n",
    "\n",
    "\n",
    "def plot_cutoffs_for_tissue(\n",
    "    data: pd.DataFrame, tissue_name: str, genes_dict: dict[str, list[float] | None]\n",
    "):\n",
    "    \"\"\"\n",
    "    Plot expression density and cutoffs for multiple genes in subplots.\n",
    "\n",
    "    Args:\n",
    "        data: DataFrame with gene expression data\n",
    "        tissue_name: Name of tissue type (e.g., \"Tumor\", \"Blood\")\n",
    "        genes_dict: Dictionary mapping gene names to clip ranges\n",
    "                If clip range is None, it will be auto-determined\n",
    "    \"\"\"\n",
    "    # Set random seed for reproducibility across all cutoff calculations\n",
    "    np.random.seed(42)\n",
    "\n",
    "    fig, axes = plt.subplots(1, 3, figsize=(15, 4))\n",
    "    fig.suptitle(f\"{tissue_name} - Gene Expression Cutoffs\", fontsize=14, y=1.02)\n",
    "\n",
    "    cutoffs = {}\n",
    "    for idx, (gene, clip_range) in enumerate(genes_dict.items()):\n",
    "        cutoff = plot_expression_density_with_cutoff(\n",
    "            data, gene, clip_range, ax=axes[idx]\n",
    "        )\n",
    "        cutoffs[gene] = cutoff\n",
    "\n",
    "    plt.tight_layout()\n",
    "    plt.show()\n",
    "\n",
    "    return cutoffs"
   ]
  },
  {
   "cell_type": "code",
   "execution_count": null,
   "id": "0d6dbaf5",
   "metadata": {},
   "outputs": [],
   "source": [
    "# Determine optimal expression cutoffs for CD8A, CD8B, and CD4 in tumor samples\n",
    "# Set clip ranges to None for automatic determination based on data percentiles\n",
    "tumor_genes = {\n",
    "    \"CD8A_Imputed\": None,  # Auto-determine from 1st-99th percentile\n",
    "    \"CD8B_Imputed\": None,  # Auto-determine from 1st-99th percentile\n",
    "    \"CD4_Imputed\": None,  # Auto-determine from 1st-99th percentile\n",
    "}\n",
    "\n",
    "cutoffs_tumor = plot_cutoffs_for_tissue(magic_df_tumor, \"Tumor\", tumor_genes)\n",
    "cd8a_cutoff_tumor = cutoffs_tumor[\"CD8A_Imputed\"]\n",
    "cd8b_cutoff_tumor = cutoffs_tumor[\"CD8B_Imputed\"]\n",
    "cd4_cutoff_tumor = cutoffs_tumor[\"CD4_Imputed\"]"
   ]
  },
  {
   "cell_type": "code",
   "execution_count": null,
   "id": "c99a4d56",
   "metadata": {},
   "outputs": [],
   "source": [
    "# Print calculated tumor cutoffs for verification\n",
    "print(\"Calculated Tumor Cutoffs:\")\n",
    "print(f\"  CD8A: {cd8a_cutoff_tumor:.8f}\")\n",
    "print(f\"  CD8B: {cd8b_cutoff_tumor:.8f}\")\n",
    "print(f\"  CD4:  {cd4_cutoff_tumor:.8f}\")"
   ]
  },
  {
   "cell_type": "code",
   "execution_count": null,
   "id": "f7f3d248",
   "metadata": {},
   "outputs": [],
   "source": [
    "# Apply cell type classification to tumor samples using determined cutoffs\n",
    "magic_df_tumor = classify_tissue_cells(\n",
    "    magic_df_tumor,\n",
    "    cd8a_cutoff=cd8a_cutoff_tumor,\n",
    "    cd8b_cutoff=cd8b_cutoff_tumor,\n",
    "    cd4_cutoff=cd4_cutoff_tumor,\n",
    ")"
   ]
  },
  {
   "cell_type": "code",
   "execution_count": null,
   "id": "8b8007d5",
   "metadata": {},
   "outputs": [],
   "source": [
    "# Save final classified tumor labels to compressed CSV\n",
    "magic_df_tumor.to_csv(\n",
    "    source_path / \"Brain_zenodo_final_tumor_MAGIC_labels.csv.gz\", compression=\"gzip\"\n",
    ")"
   ]
  },
  {
   "cell_type": "markdown",
   "id": "0c9cb0f4",
   "metadata": {},
   "source": [
    "---\n",
    "\n",
    "### Processing Blood (PBMC) Samples\n",
    "\n",
    "Now we'll apply the same process to peripheral blood mononuclear cells:"
   ]
  },
  {
   "cell_type": "code",
   "execution_count": null,
   "id": "6e009623",
   "metadata": {},
   "outputs": [],
   "source": [
    "# Subset data to blood (PBMC) samples only\n",
    "adata_blood = adata[adata.obs[\"tissue_type\"] == \"Blood\"]"
   ]
  },
  {
   "cell_type": "code",
   "execution_count": null,
   "id": "6cdd1b2f",
   "metadata": {},
   "outputs": [],
   "source": [
    "# Normalize and log-transform blood data (target sum = 10,000, log base 2)\n",
    "sc.pp.normalize_total(adata_blood, target_sum=1e4)\n",
    "sc.pp.log1p(adata_blood, base=2)"
   ]
  },
  {
   "cell_type": "code",
   "execution_count": null,
   "id": "8ff098f0",
   "metadata": {},
   "outputs": [],
   "source": [
    "# Apply MAGIC imputation to denoise and impute T cell marker genes in blood\n",
    "adata_magic_blood = sc.external.pp.magic(\n",
    "    adata_blood,\n",
    "    name_list=[\"CD8A\", \"CD8B\", \"CD4\", \"FOXP3\", \"CD3E\", \"PTPRC\"],\n",
    "    random_state=42,\n",
    ")"
   ]
  },
  {
   "cell_type": "code",
   "execution_count": null,
   "id": "4e0bac0c",
   "metadata": {},
   "outputs": [],
   "source": [
    "# Combine MAGIC-imputed and original expression values for blood samples\n",
    "non_imputed_df = sc.get.obs_df(adata_blood, list(adata_magic_blood.var_names))\n",
    "magic_df_blood = sc.get.obs_df(adata_magic_blood, list(adata_magic_blood.var_names))\n",
    "magic_df_blood.columns = [f\"{col}_Imputed\" for col in magic_df_blood.columns]\n",
    "magic_df_blood = magic_df_blood.join(non_imputed_df)"
   ]
  },
  {
   "cell_type": "code",
   "execution_count": null,
   "id": "064f84d2",
   "metadata": {},
   "outputs": [],
   "source": [
    "# Save blood MAGIC labels to compressed CSV\n",
    "magic_df_blood.to_csv(\n",
    "    source_path / \"Brain_zenodo_MAGIC_labels_blood.csv.gz\", compression=\"gzip\"\n",
    ")"
   ]
  },
  {
   "cell_type": "code",
   "execution_count": null,
   "id": "6d470309",
   "metadata": {},
   "outputs": [],
   "source": [
    "# Determine optimal expression cutoffs for CD8A, CD8B, and CD4 in blood samples\n",
    "# Set clip ranges to None for automatic determination based on data percentiles\n",
    "blood_genes = {\n",
    "    \"CD8A_Imputed\": None,  # Auto-determine from 1st-99th percentile\n",
    "    \"CD8B_Imputed\": None,  # Auto-determine from 1st-99th percentile\n",
    "    \"CD4_Imputed\": None,  # Auto-determine from 1st-99th percentile\n",
    "}\n",
    "\n",
    "cutoffs_blood = plot_cutoffs_for_tissue(magic_df_blood, \"Blood\", blood_genes)\n",
    "cd8a_cutoff_blood = cutoffs_blood[\"CD8A_Imputed\"]\n",
    "cd8b_cutoff_blood = cutoffs_blood[\"CD8B_Imputed\"]\n",
    "cd4_cutoff_blood = cutoffs_blood[\"CD4_Imputed\"]"
   ]
  },
  {
   "cell_type": "code",
   "execution_count": null,
   "id": "d4de9ac1",
   "metadata": {},
   "outputs": [],
   "source": [
    "# Print calculated blood cutoffs for verification\n",
    "print(\"Calculated Blood Cutoffs:\")\n",
    "print(f\"  CD8A: {cd8a_cutoff_blood:.8f}\")\n",
    "print(f\"  CD8B: {cd8b_cutoff_blood:.8f}\")\n",
    "print(f\"  CD4:  {cd4_cutoff_blood:.8f}\")"
   ]
  },
  {
   "cell_type": "code",
   "execution_count": null,
   "id": "b36dcc88",
   "metadata": {},
   "outputs": [],
   "source": [
    "# Apply cell type classification to blood samples using determined cutoffs\n",
    "magic_df_blood = classify_tissue_cells(\n",
    "    magic_df_blood,\n",
    "    cd8a_cutoff=cd8a_cutoff_blood,\n",
    "    cd8b_cutoff=cd8b_cutoff_blood,\n",
    "    cd4_cutoff=cd4_cutoff_blood,\n",
    ")"
   ]
  },
  {
   "cell_type": "code",
   "execution_count": null,
   "id": "92f298d2",
   "metadata": {},
   "outputs": [],
   "source": [
    "# Save final classified blood labels to compressed CSV\n",
    "magic_df_blood.to_csv(\n",
    "    source_path / \"Brain_zenodo_final_blood_MAGIC_labels.csv.gz\", compression=\"gzip\"\n",
    ")"
   ]
  },
  {
   "cell_type": "code",
   "execution_count": null,
   "id": "26c82550",
   "metadata": {},
   "outputs": [],
   "source": [
    "# Add TCR clonotype and receptor type information to the main AnnData object\n",
    "adata.obs[\"clone_id\"] = adata_tcr.obs[\"clone_id\"]\n",
    "adata.obs[\"receptor_type\"] = adata_tcr.obs[\"receptor_type\"]"
   ]
  },
  {
   "cell_type": "code",
   "execution_count": null,
   "id": "cf7e0439",
   "metadata": {},
   "outputs": [],
   "source": [
    "# Add study metadata: cancer type and publication reference\n",
    "adata.obs[\"cancer_type\"] = \"Brain Tumors\"\n",
    "adata.obs[\"study\"] = \"Wang et al. 2024 (Brain)\""
   ]
  },
  {
   "cell_type": "code",
   "execution_count": null,
   "id": "a15a82b6",
   "metadata": {},
   "outputs": [],
   "source": [
    "# Combine tumor and blood cell type classifications\n",
    "magic_labels = pd.concat([magic_df_tumor, magic_df_blood])"
   ]
  },
  {
   "cell_type": "code",
   "execution_count": null,
   "id": "79fcf6b2",
   "metadata": {},
   "outputs": [],
   "source": [
    "# Add final cell type labels to the main AnnData object\n",
    "adata.obs[\"imputed_labels\"] = magic_labels[\"final_type\"]"
   ]
  },
  {
   "cell_type": "code",
   "execution_count": null,
   "id": "dc774c66",
   "metadata": {},
   "outputs": [],
   "source": [
    "# Extract patient ID from sample names and ensure string types\n",
    "adata.obs[\"patient\"] = adata.obs[\"sample\"].str.split(\"_\").str[0]\n",
    "adata.obs[\"sample\"] = adata.obs[\"sample\"].astype(str)\n",
    "adata.obs[\"tissue_type\"] = adata.obs[\"tissue_type\"].astype(str)"
   ]
  },
  {
   "cell_type": "code",
   "execution_count": null,
   "id": "d569b63c",
   "metadata": {},
   "outputs": [],
   "source": [
    "# Create unique clone IDs incorporating patient, clonotype, and cell type; calculate clone sizes\n",
    "adata.obs[\"clone_id\"] = (\n",
    "    adata.obs[\"patient\"].astype(str)\n",
    "    + \"_\"\n",
    "    + adata.obs[\"clone_id\"].astype(str)\n",
    "    + \"_\"\n",
    "    + adata.obs[\"imputed_labels\"].astype(str)\n",
    ")\n",
    "adata.obs[\"clone_id_size\"] = adata.obs.groupby([\"sample\", \"clone_id\"]).transform(\"size\")"
   ]
  },
  {
   "cell_type": "code",
   "execution_count": null,
   "id": "d58f94dc",
   "metadata": {},
   "outputs": [],
   "source": [
    "# Classify clones as expanded or non-expanded using Shiao et al. criteria (>1.5x median)\n",
    "# Calculate median clone size per sample\n",
    "clone_sizes = (\n",
    "    adata[adata.obs[\"clone_id_size\"] > 1]\n",
    "    .obs.groupby([\"sample\", \"clone_id\"])\n",
    "    .size()\n",
    "    .reset_index(name=\"clone_size\")[[\"sample\", \"clone_size\"]]\n",
    ")\n",
    "median_clone_sizes = clone_sizes.groupby(\"sample\").median()\n",
    "median_clone_sizes[\"1.5x_median\"] = median_clone_sizes[\"clone_size\"] * 1.5\n",
    "median_clone_sizes = median_clone_sizes.reset_index()\n",
    "\n",
    "# Merge back to adata\n",
    "tmp = (\n",
    "    adata.obs.reset_index()\n",
    "    .merge(median_clone_sizes, on=\"sample\", how=\"left\")\n",
    "    .set_index(\"index\")\n",
    ")\n",
    "adata.obs[\"median_clone_size\"] = tmp[\"clone_size\"]\n",
    "adata.obs[\"1.5x_median_clone_size\"] = tmp[\"1.5x_median\"]\n",
    "\n",
    "# Vectorized expansion classification:\n",
    "adata.obs[\"expansion\"] = np.where(\n",
    "    adata.obs[\"1.5x_median_clone_size\"] < adata.obs[\"clone_id_size\"],\n",
    "    \"expanded\",\n",
    "    \"non_expanded\",\n",
    ")"
   ]
  },
  {
   "cell_type": "code",
   "execution_count": null,
   "id": "a7c3f005",
   "metadata": {},
   "outputs": [],
   "source": [
    "# Display counts of expanded vs non-expanded cells by tissue type and sample\n",
    "adata.obs.groupby([\"tissue_type\", \"sample\", \"expansion\"]).size()"
   ]
  },
  {
   "cell_type": "code",
   "execution_count": null,
   "id": "d4bf1324",
   "metadata": {},
   "outputs": [],
   "source": [
    "# Reorganize gene metadata to use gene IDs as index with gene names as column\n",
    "adata.var = adata.var.rename_axis(\"gene_name\").reset_index().set_index(\"gene_ids\")"
   ]
  },
  {
   "cell_type": "code",
   "execution_count": null,
   "id": "339452d7",
   "metadata": {},
   "outputs": [],
   "source": [
    "# Save the fully processed AnnData object (commented out - uncomment to save)\n",
    "# adata.write(os.path.join(source_path, \"scXpand_preprocessed_data_Brain_zenodo.h5ad\"), compression = 'gzip')"
   ]
  }
 ],
 "metadata": {
  "kernelspec": {
   "display_name": ".venv",
   "language": "python",
   "name": "python3"
  },
  "language_info": {
   "codemirror_mode": {
    "name": "ipython",
    "version": 3
   },
   "file_extension": ".py",
   "mimetype": "text/x-python",
   "name": "python",
   "nbconvert_exporter": "python",
   "pygments_lexer": "ipython3",
   "version": "3.13.9"
  }
 },
 "nbformat": 4,
 "nbformat_minor": 5
}
